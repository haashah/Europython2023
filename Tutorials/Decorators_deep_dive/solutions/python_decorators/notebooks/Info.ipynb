{
 "cells": [
  {
   "cell_type": "markdown",
   "id": "2b1ec2b1-8f5b-47d4-b9d8-f74d38d9ced9",
   "metadata": {},
   "source": [
    "# Decorators - A Deep Dive\n",
    "\n",
    "## A Tutorial at EuroPython 2023\n",
    "\n",
    "**Dr.-Ing. Mike Müller** \\\n",
    "**Python Academy GmbH & Co. KG (python-academy.com)** \\\n",
    "**July 17, 2023** \\\n",
    "**Prague, Czech Republic**\n",
    "\n",
    "\n",
    "# Material\n",
    "\n",
    "## https://tinyurl.com/ep23deco\n",
    "\n",
    " <img src=\"images/ep23deco.svg\" width=\"250\"/>\n",
    "\n",
    "[comment]: <> (https:/data.python-academy.com/download/conferences/europython2023/python_decorators.zip)"
   ]
  },
  {
   "cell_type": "code",
   "execution_count": null,
   "id": "47aefc1e-6335-4d7f-ad22-86cecc8de8fb",
   "metadata": {},
   "outputs": [],
   "source": []
  }
 ],
 "metadata": {
  "kernelspec": {
   "display_name": "Python 3 (ipykernel)",
   "language": "python",
   "name": "python3"
  },
  "language_info": {
   "codemirror_mode": {
    "name": "ipython",
    "version": 3
   },
   "file_extension": ".py",
   "mimetype": "text/x-python",
   "name": "python",
   "nbconvert_exporter": "python",
   "pygments_lexer": "ipython3",
   "version": "3.11.4"
  }
 },
 "nbformat": 4,
 "nbformat_minor": 5
}
