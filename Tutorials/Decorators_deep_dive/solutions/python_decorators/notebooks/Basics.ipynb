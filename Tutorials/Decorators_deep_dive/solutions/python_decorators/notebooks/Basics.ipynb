{
 "cells": [
  {
   "cell_type": "markdown",
   "id": "8b8e9727-ee36-4059-b487-054866d6bad1",
   "metadata": {},
   "source": [
    "# Static Methods"
   ]
  },
  {
   "cell_type": "code",
   "execution_count": 1,
   "id": "e0c45ec2-94d0-4b43-b979-d30025667404",
   "metadata": {},
   "outputs": [],
   "source": [
    "class C:\n",
    "\n",
    "    def meth(self):\n",
    "        return 42\n",
    "\n",
    "    @staticmethod\n",
    "    def func():\n",
    "        return 43"
   ]
  },
  {
   "cell_type": "code",
   "execution_count": 2,
   "id": "3d0d9a1f-cd14-42d4-82e6-15668d0c4c31",
   "metadata": {},
   "outputs": [],
   "source": [
    "c = C()"
   ]
  },
  {
   "cell_type": "code",
   "execution_count": 3,
   "id": "097c3b84-7845-4fb1-a763-7c9b0452336c",
   "metadata": {},
   "outputs": [
    {
     "data": {
      "text/plain": [
       "42"
      ]
     },
     "execution_count": 3,
     "metadata": {},
     "output_type": "execute_result"
    }
   ],
   "source": [
    "c.meth()"
   ]
  },
  {
   "cell_type": "code",
   "execution_count": 4,
   "id": "a3bc8373-d31c-49b1-9440-310e24493b84",
   "metadata": {},
   "outputs": [
    {
     "data": {
      "text/plain": [
       "42"
      ]
     },
     "execution_count": 4,
     "metadata": {},
     "output_type": "execute_result"
    }
   ],
   "source": [
    "C.meth(c)"
   ]
  },
  {
   "cell_type": "code",
   "execution_count": 5,
   "id": "6d43bc11-58c0-4b2d-9318-1fd5f0f4f76f",
   "metadata": {},
   "outputs": [
    {
     "data": {
      "text/plain": [
       "<bound method C.meth of <__main__.C object at 0x10829fb50>>"
      ]
     },
     "execution_count": 5,
     "metadata": {},
     "output_type": "execute_result"
    }
   ],
   "source": [
    "c.meth"
   ]
  },
  {
   "cell_type": "code",
   "execution_count": 6,
   "id": "1e47a650-2b91-4699-966b-e1de0ee29e5f",
   "metadata": {},
   "outputs": [
    {
     "data": {
      "text/plain": [
       "<function __main__.C.meth(self)>"
      ]
     },
     "execution_count": 6,
     "metadata": {},
     "output_type": "execute_result"
    }
   ],
   "source": [
    "C.meth"
   ]
  },
  {
   "cell_type": "code",
   "execution_count": 7,
   "id": "a6c16b6d-ef0a-416e-afcd-df04738f0e25",
   "metadata": {},
   "outputs": [
    {
     "data": {
      "text/plain": [
       "43"
      ]
     },
     "execution_count": 7,
     "metadata": {},
     "output_type": "execute_result"
    }
   ],
   "source": [
    "c.func()"
   ]
  },
  {
   "cell_type": "code",
   "execution_count": 8,
   "id": "09cd7546-c49a-4432-995b-f1e7350b34c6",
   "metadata": {},
   "outputs": [
    {
     "data": {
      "text/plain": [
       "43"
      ]
     },
     "execution_count": 8,
     "metadata": {},
     "output_type": "execute_result"
    }
   ],
   "source": [
    "C.func()"
   ]
  },
  {
   "cell_type": "code",
   "execution_count": 9,
   "id": "17b35f7f-b917-4e3c-8c83-8828314caa04",
   "metadata": {},
   "outputs": [],
   "source": [
    "class Point:\n",
    "\n",
    "    def __init__(self, x, y):\n",
    "        self.x = x\n",
    "        self.y = y\n",
    "\n",
    "    def __repr__(self):\n",
    "        return f'{self.__class__.__name__}({self.x!r}, {self.y!r})'"
   ]
  },
  {
   "cell_type": "code",
   "execution_count": 10,
   "id": "8134d6ab-7910-4e45-8760-ae1c9737a3da",
   "metadata": {},
   "outputs": [],
   "source": [
    "p1 = Point(10, 20)"
   ]
  },
  {
   "cell_type": "code",
   "execution_count": 11,
   "id": "6a736363-53e9-431a-9640-06f0b4dfb99c",
   "metadata": {},
   "outputs": [
    {
     "data": {
      "text/plain": [
       "Point(10, 20)"
      ]
     },
     "execution_count": 11,
     "metadata": {},
     "output_type": "execute_result"
    }
   ],
   "source": [
    "p1"
   ]
  },
  {
   "cell_type": "code",
   "execution_count": 12,
   "id": "8bee5ea8-d16b-43db-9aaa-0769dcd80c09",
   "metadata": {},
   "outputs": [
    {
     "data": {
      "text/plain": [
       "<__main__.C at 0x10829fb50>"
      ]
     },
     "execution_count": 12,
     "metadata": {},
     "output_type": "execute_result"
    }
   ],
   "source": [
    "c"
   ]
  },
  {
   "cell_type": "code",
   "execution_count": 13,
   "id": "ce0145e4-60cb-4891-9f44-f0f10b266553",
   "metadata": {},
   "outputs": [],
   "source": [
    "class Point:\n",
    "\n",
    "    def __init__(self, x, y):\n",
    "        self.x = x\n",
    "        self.y = y\n",
    "\n",
    "    def __repr__(self):\n",
    "        return f'{self.__class__.__name__}({self.x!r}, {self.y!r})'\n",
    "\n",
    "    @classmethod\n",
    "    def from_point(cls, point):\n",
    "        return cls(point.x, point.y)"
   ]
  },
  {
   "cell_type": "code",
   "execution_count": 14,
   "id": "8a24ac2a-5da5-4585-8661-39ef327e57f8",
   "metadata": {},
   "outputs": [],
   "source": [
    "p2 = Point.from_point(p1)"
   ]
  },
  {
   "cell_type": "code",
   "execution_count": 15,
   "id": "8df63cea-9f05-4089-b889-50f9ae9cfd79",
   "metadata": {},
   "outputs": [
    {
     "data": {
      "text/plain": [
       "Point(10, 20)"
      ]
     },
     "execution_count": 15,
     "metadata": {},
     "output_type": "execute_result"
    }
   ],
   "source": [
    "p2"
   ]
  },
  {
   "cell_type": "code",
   "execution_count": 16,
   "id": "fbd8188b-7a3e-4022-97fa-82c89599c9af",
   "metadata": {},
   "outputs": [
    {
     "data": {
      "text/plain": [
       "4438890832"
      ]
     },
     "execution_count": 16,
     "metadata": {},
     "output_type": "execute_result"
    }
   ],
   "source": [
    "id(p1)"
   ]
  },
  {
   "cell_type": "code",
   "execution_count": 17,
   "id": "4bb9eb32-3fd2-46be-ae20-fc52d58f6e5e",
   "metadata": {},
   "outputs": [
    {
     "data": {
      "text/plain": [
       "4442583440"
      ]
     },
     "execution_count": 17,
     "metadata": {},
     "output_type": "execute_result"
    }
   ],
   "source": [
    "id(p2)"
   ]
  },
  {
   "cell_type": "code",
   "execution_count": 18,
   "id": "09b94479-74a6-4bdd-8887-c8bef3b4b29c",
   "metadata": {},
   "outputs": [
    {
     "data": {
      "text/plain": [
       "False"
      ]
     },
     "execution_count": 18,
     "metadata": {},
     "output_type": "execute_result"
    }
   ],
   "source": [
    "p1 is p2"
   ]
  },
  {
   "cell_type": "markdown",
   "id": "45ac5981-2fc0-4587-9349-8b74fcaa9c0d",
   "metadata": {},
   "source": [
    "# Closure"
   ]
  },
  {
   "cell_type": "code",
   "execution_count": 19,
   "id": "22002ab2-e272-434a-afcb-7fd9484164e1",
   "metadata": {},
   "outputs": [],
   "source": [
    "def outer(outer_arg):\n",
    "    def inner(inner_arg):\n",
    "        return inner_arg + outer_arg\n",
    "    return inner"
   ]
  },
  {
   "cell_type": "code",
   "execution_count": 20,
   "id": "e36627eb-7819-408e-8d66-540cb94bbee7",
   "metadata": {},
   "outputs": [],
   "source": [
    "i10 = outer(10)"
   ]
  },
  {
   "cell_type": "code",
   "execution_count": 21,
   "id": "5cbbb718-c472-47bd-8b2a-bb4711e77077",
   "metadata": {},
   "outputs": [
    {
     "data": {
      "text/plain": [
       "<function __main__.outer.<locals>.inner(inner_arg)>"
      ]
     },
     "execution_count": 21,
     "metadata": {},
     "output_type": "execute_result"
    }
   ],
   "source": [
    "i10"
   ]
  },
  {
   "cell_type": "code",
   "execution_count": 22,
   "id": "7ba68ec9-e2df-4d71-aad8-7b8d7f020f5a",
   "metadata": {},
   "outputs": [
    {
     "data": {
      "text/plain": [
       "15"
      ]
     },
     "execution_count": 22,
     "metadata": {},
     "output_type": "execute_result"
    }
   ],
   "source": [
    "i10(5)"
   ]
  },
  {
   "cell_type": "code",
   "execution_count": 24,
   "id": "c58f43fa-6eca-4b80-b143-cbad1ec647c6",
   "metadata": {},
   "outputs": [
    {
     "data": {
      "text/plain": [
       "10"
      ]
     },
     "execution_count": 24,
     "metadata": {},
     "output_type": "execute_result"
    }
   ],
   "source": [
    "i10.__closure__[0].cell_contents"
   ]
  },
  {
   "cell_type": "markdown",
   "id": "67b1f62a-0130-4fa0-aeaf-410365826e90",
   "metadata": {},
   "source": [
    "# Simple"
   ]
  },
  {
   "cell_type": "code",
   "execution_count": 25,
   "id": "eec282c0-8582-41ed-a057-81f561c70ba9",
   "metadata": {},
   "outputs": [],
   "source": [
    "def hello(func):\n",
    "    print('Hello')"
   ]
  },
  {
   "cell_type": "code",
   "execution_count": 26,
   "id": "750b9855-4aa1-470b-a55d-335d303c7949",
   "metadata": {},
   "outputs": [
    {
     "name": "stdout",
     "output_type": "stream",
     "text": [
      "Hello\n"
     ]
    }
   ],
   "source": [
    "@hello\n",
    "def add(a, b):\n",
    "    return a + b"
   ]
  },
  {
   "cell_type": "code",
   "execution_count": 27,
   "id": "c0da674a-4414-44d7-9fbb-f4380b434638",
   "metadata": {},
   "outputs": [
    {
     "name": "stdout",
     "output_type": "stream",
     "text": [
      "Hello\n"
     ]
    }
   ],
   "source": [
    "def add(a, b):\n",
    "    return a + b\n",
    "\n",
    "add = hello(add)"
   ]
  },
  {
   "cell_type": "code",
   "execution_count": 28,
   "id": "0185850c-5dbd-4da5-8942-8fcfdadfcf87",
   "metadata": {},
   "outputs": [
    {
     "ename": "TypeError",
     "evalue": "'NoneType' object is not callable",
     "output_type": "error",
     "traceback": [
      "\u001b[0;31m---------------------------------------------------------------------------\u001b[0m",
      "\u001b[0;31mTypeError\u001b[0m                                 Traceback (most recent call last)",
      "Cell \u001b[0;32mIn[28], line 1\u001b[0m\n\u001b[0;32m----> 1\u001b[0m \u001b[43madd\u001b[49m\u001b[43m(\u001b[49m\u001b[38;5;241;43m2\u001b[39;49m\u001b[43m,\u001b[49m\u001b[43m \u001b[49m\u001b[38;5;241;43m3\u001b[39;49m\u001b[43m)\u001b[49m\n",
      "\u001b[0;31mTypeError\u001b[0m: 'NoneType' object is not callable"
     ]
    }
   ],
   "source": [
    "add(2, 3)"
   ]
  },
  {
   "cell_type": "code",
   "execution_count": 29,
   "id": "31d76068-3799-4f40-80c8-eca9c13c4a1a",
   "metadata": {},
   "outputs": [],
   "source": [
    "def hello(func):\n",
    "    def wrapper(*args, **kwargs):\n",
    "        print('Hello')\n",
    "        return func(*args, **kwargs)\n",
    "    return wrapper"
   ]
  },
  {
   "cell_type": "code",
   "execution_count": 30,
   "id": "a101f3ad-4550-4ad1-a9cc-bdb5cf73a810",
   "metadata": {},
   "outputs": [],
   "source": [
    "@hello\n",
    "def add(a, b):\n",
    "    return a + b"
   ]
  },
  {
   "cell_type": "code",
   "execution_count": 31,
   "id": "585b8f58-49a0-4c5b-af50-2a61e8b4d104",
   "metadata": {},
   "outputs": [
    {
     "name": "stdout",
     "output_type": "stream",
     "text": [
      "Hello\n"
     ]
    },
    {
     "data": {
      "text/plain": [
       "9"
      ]
     },
     "execution_count": 31,
     "metadata": {},
     "output_type": "execute_result"
    }
   ],
   "source": [
    "add(4, 5)"
   ]
  },
  {
   "cell_type": "code",
   "execution_count": 32,
   "id": "dacab7a5-c063-469c-b6f4-5d767ea6ec29",
   "metadata": {},
   "outputs": [],
   "source": [
    "def func(*args):\n",
    "    print(args)"
   ]
  },
  {
   "cell_type": "code",
   "execution_count": 33,
   "id": "823fb7fa-bc9b-4c3a-bf54-1cca8d6397d0",
   "metadata": {},
   "outputs": [
    {
     "name": "stdout",
     "output_type": "stream",
     "text": [
      "()\n"
     ]
    }
   ],
   "source": [
    "func()"
   ]
  },
  {
   "cell_type": "code",
   "execution_count": 34,
   "id": "58c08ec2-27dd-4d7a-af57-b1381e037b71",
   "metadata": {},
   "outputs": [
    {
     "name": "stdout",
     "output_type": "stream",
     "text": [
      "(3,)\n"
     ]
    }
   ],
   "source": [
    "func(3)"
   ]
  },
  {
   "cell_type": "code",
   "execution_count": 35,
   "id": "6621cfa1-fec9-4625-ae0f-36060343efd1",
   "metadata": {},
   "outputs": [
    {
     "name": "stdout",
     "output_type": "stream",
     "text": [
      "(3, 4)\n"
     ]
    }
   ],
   "source": [
    "func(3, 4)"
   ]
  },
  {
   "cell_type": "code",
   "execution_count": 36,
   "id": "b52ed933-7212-44a7-a908-4142b5b2ee37",
   "metadata": {},
   "outputs": [
    {
     "name": "stdout",
     "output_type": "stream",
     "text": [
      "\n"
     ]
    }
   ],
   "source": [
    "print()"
   ]
  },
  {
   "cell_type": "code",
   "execution_count": 37,
   "id": "9dacd0d9-b8b6-4b96-b615-ccc0f2e58aeb",
   "metadata": {},
   "outputs": [
    {
     "name": "stdout",
     "output_type": "stream",
     "text": [
      "1\n"
     ]
    }
   ],
   "source": [
    "print(1)"
   ]
  },
  {
   "cell_type": "code",
   "execution_count": 38,
   "id": "712e3d65-2033-4f59-af3f-5d7139994ef7",
   "metadata": {},
   "outputs": [
    {
     "name": "stdout",
     "output_type": "stream",
     "text": [
      "1 2\n"
     ]
    }
   ],
   "source": [
    "print(1, 2)"
   ]
  },
  {
   "cell_type": "code",
   "execution_count": 39,
   "id": "2bcbf8d3-5fa4-4dd6-8ccb-f1dc902a7e59",
   "metadata": {},
   "outputs": [],
   "source": [
    "def func(**kwargs):\n",
    "    print(kwargs)"
   ]
  },
  {
   "cell_type": "code",
   "execution_count": 40,
   "id": "481bd829-bf6d-4479-9076-a5b5146d0418",
   "metadata": {},
   "outputs": [
    {
     "name": "stdout",
     "output_type": "stream",
     "text": [
      "{}\n"
     ]
    }
   ],
   "source": [
    "func()"
   ]
  },
  {
   "cell_type": "code",
   "execution_count": 41,
   "id": "3f6bf6e5-cf7f-4a69-8a73-066397b07397",
   "metadata": {},
   "outputs": [
    {
     "name": "stdout",
     "output_type": "stream",
     "text": [
      "{'a': 1}\n"
     ]
    }
   ],
   "source": [
    "func(a=1)"
   ]
  },
  {
   "cell_type": "code",
   "execution_count": 42,
   "id": "561515ff-cb60-4ba6-8950-8e863c223534",
   "metadata": {},
   "outputs": [
    {
     "name": "stdout",
     "output_type": "stream",
     "text": [
      "{'a': 1, 'b': 2}\n"
     ]
    }
   ],
   "source": [
    "func(a=1, b=2)"
   ]
  },
  {
   "cell_type": "code",
   "execution_count": 43,
   "id": "4007b205-c89f-489b-9a83-b3dafefcfc78",
   "metadata": {},
   "outputs": [],
   "source": [
    "def func(*args, **kwargs):\n",
    "    print(args)\n",
    "    print(kwargs)"
   ]
  },
  {
   "cell_type": "code",
   "execution_count": 44,
   "id": "975296c3-2e95-4e3c-a372-6d2948aa2e78",
   "metadata": {},
   "outputs": [
    {
     "name": "stdout",
     "output_type": "stream",
     "text": [
      "()\n",
      "{}\n"
     ]
    }
   ],
   "source": [
    "func()"
   ]
  },
  {
   "cell_type": "code",
   "execution_count": 45,
   "id": "139e32ed-331d-4cf0-a14c-ee02c5cfc330",
   "metadata": {},
   "outputs": [
    {
     "name": "stdout",
     "output_type": "stream",
     "text": [
      "(10, 20, 30)\n",
      "{'a': 1, 'b': 2, 'c': 3}\n"
     ]
    }
   ],
   "source": [
    "func(10, 20, 30, a=1, b=2, c=3)"
   ]
  },
  {
   "cell_type": "code",
   "execution_count": 46,
   "id": "75d4ddff-dc20-40d8-8cf1-2a33c743371f",
   "metadata": {},
   "outputs": [],
   "source": [
    "L = [1, 2, 3]"
   ]
  },
  {
   "cell_type": "code",
   "execution_count": 47,
   "id": "7af47067-fdb8-4bdd-b00a-3ee67064d69e",
   "metadata": {},
   "outputs": [
    {
     "name": "stdout",
     "output_type": "stream",
     "text": [
      "[1, 2, 3]\n"
     ]
    }
   ],
   "source": [
    "print(L)"
   ]
  },
  {
   "cell_type": "code",
   "execution_count": 48,
   "id": "9f39ed7e-cdc7-47e3-8247-013301ef906d",
   "metadata": {},
   "outputs": [
    {
     "name": "stdout",
     "output_type": "stream",
     "text": [
      "1 2 3\n"
     ]
    }
   ],
   "source": [
    "print(L[0], L[1], L[2])"
   ]
  },
  {
   "cell_type": "code",
   "execution_count": 49,
   "id": "33bf53b9-6b30-4c77-99fc-0e357602643c",
   "metadata": {},
   "outputs": [
    {
     "name": "stdout",
     "output_type": "stream",
     "text": [
      "1 2 3\n"
     ]
    }
   ],
   "source": [
    "print(*L)"
   ]
  },
  {
   "cell_type": "code",
   "execution_count": 50,
   "id": "5efd842b-3ed0-4ae9-b1d0-5d8a33eb2c84",
   "metadata": {},
   "outputs": [
    {
     "data": {
      "text/plain": [
       "\u001b[0;31mSignature:\u001b[0m \u001b[0mprint\u001b[0m\u001b[0;34m(\u001b[0m\u001b[0;34m*\u001b[0m\u001b[0margs\u001b[0m\u001b[0;34m,\u001b[0m \u001b[0msep\u001b[0m\u001b[0;34m=\u001b[0m\u001b[0;34m' '\u001b[0m\u001b[0;34m,\u001b[0m \u001b[0mend\u001b[0m\u001b[0;34m=\u001b[0m\u001b[0;34m'\\n'\u001b[0m\u001b[0;34m,\u001b[0m \u001b[0mfile\u001b[0m\u001b[0;34m=\u001b[0m\u001b[0;32mNone\u001b[0m\u001b[0;34m,\u001b[0m \u001b[0mflush\u001b[0m\u001b[0;34m=\u001b[0m\u001b[0;32mFalse\u001b[0m\u001b[0;34m)\u001b[0m\u001b[0;34m\u001b[0m\u001b[0;34m\u001b[0m\u001b[0m\n",
       "\u001b[0;31mDocstring:\u001b[0m\n",
       "Prints the values to a stream, or to sys.stdout by default.\n",
       "\n",
       "sep\n",
       "  string inserted between values, default a space.\n",
       "end\n",
       "  string appended after the last value, default a newline.\n",
       "file\n",
       "  a file-like object (stream); defaults to the current sys.stdout.\n",
       "flush\n",
       "  whether to forcibly flush the stream.\n",
       "\u001b[0;31mType:\u001b[0m      builtin_function_or_method"
      ]
     },
     "metadata": {},
     "output_type": "display_data"
    }
   ],
   "source": [
    "print?"
   ]
  },
  {
   "cell_type": "code",
   "execution_count": 51,
   "id": "09b5bb7a-2751-4e55-b818-e296788f8388",
   "metadata": {},
   "outputs": [
    {
     "name": "stdout",
     "output_type": "stream",
     "text": [
      "1#2#3\n"
     ]
    }
   ],
   "source": [
    "print(*L, sep='#')"
   ]
  },
  {
   "cell_type": "code",
   "execution_count": 52,
   "id": "20f2a338-f670-4c11-9d1a-2433934c1839",
   "metadata": {},
   "outputs": [],
   "source": [
    "options = {'sep': '#'}"
   ]
  },
  {
   "cell_type": "code",
   "execution_count": 53,
   "id": "b6b273e4-a3b9-41aa-9580-99937f788b26",
   "metadata": {},
   "outputs": [
    {
     "name": "stdout",
     "output_type": "stream",
     "text": [
      "1#2#3\n"
     ]
    }
   ],
   "source": [
    "print(*L, **options)"
   ]
  },
  {
   "cell_type": "markdown",
   "id": "c67e66a7-82be-4e38-91f8-83c89fdd4589",
   "metadata": {},
   "source": [
    "# Best Practice"
   ]
  },
  {
   "cell_type": "code",
   "execution_count": 63,
   "id": "f08f3fe5-1276-44c5-8314-50631634f44b",
   "metadata": {},
   "outputs": [],
   "source": [
    "def add(a, b):\n",
    "    \"\"\"Add two objects.\"\"\"\n",
    "    return a + b"
   ]
  },
  {
   "cell_type": "code",
   "execution_count": 64,
   "id": "b5816461-2945-48df-b74d-6adc299d1331",
   "metadata": {},
   "outputs": [
    {
     "data": {
      "text/plain": [
       "\u001b[0;31mSignature:\u001b[0m \u001b[0madd\u001b[0m\u001b[0;34m(\u001b[0m\u001b[0ma\u001b[0m\u001b[0;34m,\u001b[0m \u001b[0mb\u001b[0m\u001b[0;34m)\u001b[0m\u001b[0;34m\u001b[0m\u001b[0;34m\u001b[0m\u001b[0m\n",
       "\u001b[0;31mDocstring:\u001b[0m Add two objects.\n",
       "\u001b[0;31mFile:\u001b[0m      /var/folders/p_/yckgs9wn0xbcmqc92zk3z4240000gp/T/ipykernel_79755/816816349.py\n",
       "\u001b[0;31mType:\u001b[0m      function"
      ]
     },
     "metadata": {},
     "output_type": "display_data"
    }
   ],
   "source": [
    "add?"
   ]
  },
  {
   "cell_type": "code",
   "execution_count": 65,
   "id": "9bb454b1-571e-4aac-af6a-7808e7baf4e1",
   "metadata": {},
   "outputs": [
    {
     "data": {
      "text/plain": [
       "'Add two objects.'"
      ]
     },
     "execution_count": 65,
     "metadata": {},
     "output_type": "execute_result"
    }
   ],
   "source": [
    "add.__doc__"
   ]
  },
  {
   "cell_type": "code",
   "execution_count": 66,
   "id": "b9647c58-5841-42ae-90ee-f867845471fc",
   "metadata": {},
   "outputs": [
    {
     "data": {
      "text/plain": [
       "'add'"
      ]
     },
     "execution_count": 66,
     "metadata": {},
     "output_type": "execute_result"
    }
   ],
   "source": [
    "add.__name__"
   ]
  },
  {
   "cell_type": "code",
   "execution_count": 67,
   "id": "c06da7f1-4a2a-4abe-ada7-65bdcffbe0df",
   "metadata": {},
   "outputs": [],
   "source": [
    "@hello\n",
    "def add_deco(a, b):\n",
    "    \"\"\"Add two objects.\"\"\"\n",
    "    return a + b"
   ]
  },
  {
   "cell_type": "code",
   "execution_count": 68,
   "id": "6f36c4de-8bec-414b-ad4f-be681d5ea362",
   "metadata": {},
   "outputs": [
    {
     "data": {
      "text/plain": [
       "\u001b[0;31mSignature:\u001b[0m \u001b[0madd_deco\u001b[0m\u001b[0;34m(\u001b[0m\u001b[0;34m*\u001b[0m\u001b[0margs\u001b[0m\u001b[0;34m,\u001b[0m \u001b[0;34m**\u001b[0m\u001b[0mkwargs\u001b[0m\u001b[0;34m)\u001b[0m\u001b[0;34m\u001b[0m\u001b[0;34m\u001b[0m\u001b[0m\n",
       "\u001b[0;31mDocstring:\u001b[0m <no docstring>\n",
       "\u001b[0;31mFile:\u001b[0m      /var/folders/p_/yckgs9wn0xbcmqc92zk3z4240000gp/T/ipykernel_79755/1692163853.py\n",
       "\u001b[0;31mType:\u001b[0m      function"
      ]
     },
     "metadata": {},
     "output_type": "display_data"
    }
   ],
   "source": [
    "add_deco?"
   ]
  },
  {
   "cell_type": "code",
   "execution_count": 71,
   "id": "5fc81557-beb5-44d5-983b-007747fd454d",
   "metadata": {},
   "outputs": [
    {
     "data": {
      "text/plain": [
       "'wrapper'"
      ]
     },
     "execution_count": 71,
     "metadata": {},
     "output_type": "execute_result"
    }
   ],
   "source": [
    "add_deco.__name__"
   ]
  },
  {
   "cell_type": "code",
   "execution_count": 72,
   "id": "25742ecc-ed82-49d8-9684-757de90e508d",
   "metadata": {},
   "outputs": [],
   "source": [
    "add_deco.__doc__"
   ]
  },
  {
   "cell_type": "code",
   "execution_count": 73,
   "id": "99b601ac-0f46-4ba1-8407-bd72a28b36cb",
   "metadata": {},
   "outputs": [],
   "source": [
    "from functools import wraps"
   ]
  },
  {
   "cell_type": "code",
   "execution_count": 74,
   "id": "dba46645-49d2-42d0-8200-e361ff589cbf",
   "metadata": {},
   "outputs": [],
   "source": [
    "def hello(func):\n",
    "    @wraps(func)\n",
    "    def wrapper(*args, **kwargs):\n",
    "        print('Hello')\n",
    "        return func(*args, **kwargs)\n",
    "    return wrapper"
   ]
  },
  {
   "cell_type": "code",
   "execution_count": 75,
   "id": "5cfe64a5-4beb-472c-b1fb-edfe9a5dc22d",
   "metadata": {},
   "outputs": [],
   "source": [
    "@hello\n",
    "def add_deco_better(a, b):\n",
    "    \"\"\"Add two objects.\"\"\"\n",
    "    return a + b"
   ]
  },
  {
   "cell_type": "code",
   "execution_count": 76,
   "id": "72a8ea3d-5afe-4199-89ff-64ccaf56fcdd",
   "metadata": {},
   "outputs": [
    {
     "data": {
      "text/plain": [
       "\u001b[0;31mSignature:\u001b[0m \u001b[0madd_deco_better\u001b[0m\u001b[0;34m(\u001b[0m\u001b[0ma\u001b[0m\u001b[0;34m,\u001b[0m \u001b[0mb\u001b[0m\u001b[0;34m)\u001b[0m\u001b[0;34m\u001b[0m\u001b[0;34m\u001b[0m\u001b[0m\n",
       "\u001b[0;31mDocstring:\u001b[0m Add two objects.\n",
       "\u001b[0;31mFile:\u001b[0m      /var/folders/p_/yckgs9wn0xbcmqc92zk3z4240000gp/T/ipykernel_79755/575309275.py\n",
       "\u001b[0;31mType:\u001b[0m      function"
      ]
     },
     "metadata": {},
     "output_type": "display_data"
    }
   ],
   "source": [
    "add_deco_better?"
   ]
  },
  {
   "cell_type": "code",
   "execution_count": 77,
   "id": "ab26519e-b0a6-431a-bafc-e03e91514075",
   "metadata": {},
   "outputs": [
    {
     "data": {
      "text/plain": [
       "'add_deco_better'"
      ]
     },
     "execution_count": 77,
     "metadata": {},
     "output_type": "execute_result"
    }
   ],
   "source": [
    "add_deco_better.__name__"
   ]
  },
  {
   "cell_type": "code",
   "execution_count": 78,
   "id": "48c3df83-5448-49a7-9a38-93cad88e1f83",
   "metadata": {},
   "outputs": [
    {
     "data": {
      "text/plain": [
       "\u001b[0;31mSignature:\u001b[0m\n",
       "\u001b[0mwraps\u001b[0m\u001b[0;34m(\u001b[0m\u001b[0;34m\u001b[0m\n",
       "\u001b[0;34m\u001b[0m    \u001b[0mwrapped\u001b[0m\u001b[0;34m,\u001b[0m\u001b[0;34m\u001b[0m\n",
       "\u001b[0;34m\u001b[0m    \u001b[0massigned\u001b[0m\u001b[0;34m=\u001b[0m\u001b[0;34m(\u001b[0m\u001b[0;34m'__module__'\u001b[0m\u001b[0;34m,\u001b[0m \u001b[0;34m'__name__'\u001b[0m\u001b[0;34m,\u001b[0m \u001b[0;34m'__qualname__'\u001b[0m\u001b[0;34m,\u001b[0m \u001b[0;34m'__doc__'\u001b[0m\u001b[0;34m,\u001b[0m \u001b[0;34m'__annotations__'\u001b[0m\u001b[0;34m)\u001b[0m\u001b[0;34m,\u001b[0m\u001b[0;34m\u001b[0m\n",
       "\u001b[0;34m\u001b[0m    \u001b[0mupdated\u001b[0m\u001b[0;34m=\u001b[0m\u001b[0;34m(\u001b[0m\u001b[0;34m'__dict__'\u001b[0m\u001b[0;34m,\u001b[0m\u001b[0;34m)\u001b[0m\u001b[0;34m,\u001b[0m\u001b[0;34m\u001b[0m\n",
       "\u001b[0;34m\u001b[0m\u001b[0;34m)\u001b[0m\u001b[0;34m\u001b[0m\u001b[0;34m\u001b[0m\u001b[0m\n",
       "\u001b[0;31mSource:\u001b[0m   \n",
       "\u001b[0;32mdef\u001b[0m \u001b[0mwraps\u001b[0m\u001b[0;34m(\u001b[0m\u001b[0mwrapped\u001b[0m\u001b[0;34m,\u001b[0m\u001b[0;34m\u001b[0m\n",
       "\u001b[0;34m\u001b[0m          \u001b[0massigned\u001b[0m \u001b[0;34m=\u001b[0m \u001b[0mWRAPPER_ASSIGNMENTS\u001b[0m\u001b[0;34m,\u001b[0m\u001b[0;34m\u001b[0m\n",
       "\u001b[0;34m\u001b[0m          \u001b[0mupdated\u001b[0m \u001b[0;34m=\u001b[0m \u001b[0mWRAPPER_UPDATES\u001b[0m\u001b[0;34m)\u001b[0m\u001b[0;34m:\u001b[0m\u001b[0;34m\u001b[0m\n",
       "\u001b[0;34m\u001b[0m    \u001b[0;34m\"\"\"Decorator factory to apply update_wrapper() to a wrapper function\u001b[0m\n",
       "\u001b[0;34m\u001b[0m\n",
       "\u001b[0;34m       Returns a decorator that invokes update_wrapper() with the decorated\u001b[0m\n",
       "\u001b[0;34m       function as the wrapper argument and the arguments to wraps() as the\u001b[0m\n",
       "\u001b[0;34m       remaining arguments. Default arguments are as for update_wrapper().\u001b[0m\n",
       "\u001b[0;34m       This is a convenience function to simplify applying partial() to\u001b[0m\n",
       "\u001b[0;34m       update_wrapper().\u001b[0m\n",
       "\u001b[0;34m    \"\"\"\u001b[0m\u001b[0;34m\u001b[0m\n",
       "\u001b[0;34m\u001b[0m    \u001b[0;32mreturn\u001b[0m \u001b[0mpartial\u001b[0m\u001b[0;34m(\u001b[0m\u001b[0mupdate_wrapper\u001b[0m\u001b[0;34m,\u001b[0m \u001b[0mwrapped\u001b[0m\u001b[0;34m=\u001b[0m\u001b[0mwrapped\u001b[0m\u001b[0;34m,\u001b[0m\u001b[0;34m\u001b[0m\n",
       "\u001b[0;34m\u001b[0m                   \u001b[0massigned\u001b[0m\u001b[0;34m=\u001b[0m\u001b[0massigned\u001b[0m\u001b[0;34m,\u001b[0m \u001b[0mupdated\u001b[0m\u001b[0;34m=\u001b[0m\u001b[0mupdated\u001b[0m\u001b[0;34m)\u001b[0m\u001b[0;34m\u001b[0m\u001b[0;34m\u001b[0m\u001b[0m\n",
       "\u001b[0;31mFile:\u001b[0m      ~/mambaforge/envs/jupyter4/lib/python3.11/functools.py\n",
       "\u001b[0;31mType:\u001b[0m      function"
      ]
     },
     "metadata": {},
     "output_type": "display_data"
    }
   ],
   "source": [
    "wraps??"
   ]
  },
  {
   "cell_type": "code",
   "execution_count": 79,
   "id": "bda86215-93c8-4a3f-88d4-3cdd885a97eb",
   "metadata": {},
   "outputs": [],
   "source": [
    "def hello_doc_mod(func):\n",
    "    @wraps(func)\n",
    "    def wrapper(*args, **kwargs):\n",
    "        print('Hello')\n",
    "        return func(*args, **kwargs)\n",
    "    wrapper.__doc__ = 'My doc: ' + wrapper.__doc__\n",
    "    return wrapper"
   ]
  },
  {
   "cell_type": "code",
   "execution_count": 80,
   "id": "7c691dca-c482-4598-9e87-a34258183b1a",
   "metadata": {},
   "outputs": [],
   "source": [
    "@hello_doc_mod\n",
    "def add_deco_mod_doc(a, b):\n",
    "    \"\"\"Add two objects.\"\"\"\n",
    "    return a + b"
   ]
  },
  {
   "cell_type": "code",
   "execution_count": 81,
   "id": "72a93760-8b90-448e-8651-e0c20fc5432c",
   "metadata": {},
   "outputs": [
    {
     "name": "stdout",
     "output_type": "stream",
     "text": [
      "Hello\n"
     ]
    },
    {
     "data": {
      "text/plain": [
       "7"
      ]
     },
     "execution_count": 81,
     "metadata": {},
     "output_type": "execute_result"
    }
   ],
   "source": [
    "add_deco_mod_doc(3, 4)"
   ]
  },
  {
   "cell_type": "code",
   "execution_count": 82,
   "id": "8bbafa83-41c7-4f20-8819-5c52ef58cc52",
   "metadata": {},
   "outputs": [
    {
     "data": {
      "text/plain": [
       "\u001b[0;31mSignature:\u001b[0m \u001b[0madd_deco_mod_doc\u001b[0m\u001b[0;34m(\u001b[0m\u001b[0ma\u001b[0m\u001b[0;34m,\u001b[0m \u001b[0mb\u001b[0m\u001b[0;34m)\u001b[0m\u001b[0;34m\u001b[0m\u001b[0;34m\u001b[0m\u001b[0m\n",
       "\u001b[0;31mDocstring:\u001b[0m My doc: Add two objects.\n",
       "\u001b[0;31mFile:\u001b[0m      /var/folders/p_/yckgs9wn0xbcmqc92zk3z4240000gp/T/ipykernel_79755/3973980830.py\n",
       "\u001b[0;31mType:\u001b[0m      function"
      ]
     },
     "metadata": {},
     "output_type": "display_data"
    }
   ],
   "source": [
    "add_deco_mod_doc?"
   ]
  },
  {
   "cell_type": "code",
   "execution_count": 83,
   "id": "df2245ee-3b15-4082-9555-b2f91495b34a",
   "metadata": {},
   "outputs": [
    {
     "name": "stdout",
     "output_type": "stream",
     "text": [
      "/Users/mike/pya/Konferenzen/EuroPython/EuroPython2023/Tutorial/decorators\n"
     ]
    }
   ],
   "source": [
    "%cd decorators/"
   ]
  },
  {
   "cell_type": "code",
   "execution_count": 84,
   "id": "2125b371-7ca3-4871-ac03-4fed8d2e8327",
   "metadata": {},
   "outputs": [
    {
     "name": "stdout",
     "output_type": "stream",
     "text": [
      "\u001b[31margcheck.py\u001b[m\u001b[m*          \u001b[31mlogged.py\u001b[m\u001b[m*            \u001b[31mregistering.py\u001b[m\u001b[m*\n",
      "\u001b[31mcached.py\u001b[m\u001b[m*            \u001b[31mmethod_name_check.py\u001b[m\u001b[m*\n"
     ]
    }
   ],
   "source": [
    "%ls"
   ]
  },
  {
   "cell_type": "code",
   "execution_count": 86,
   "id": "504cf6c8-74eb-4e32-ab70-fba5c2da7a67",
   "metadata": {},
   "outputs": [],
   "source": [
    "# %load cached.py\n",
    "\"\"\"Caching results with a decorator.\n",
    "\"\"\"\n",
    "\n",
    "import functools\n",
    "import pickle\n",
    "\n",
    "\n",
    "def cached(func):\n",
    "    \"\"\"Decorator that caches.\n",
    "    \"\"\"\n",
    "    cache = {}\n",
    "\n",
    "    @functools.wraps(func)\n",
    "    def _cached(*args, **kwargs):\n",
    "        \"\"\"Takes the arguments.\n",
    "        \"\"\"\n",
    "        # dicts cannot be use as dict keys\n",
    "        # dumps are strings and can be used\n",
    "        key = pickle.dumps((args, kwargs))\n",
    "        if key not in cache:\n",
    "            cache[key] = func(*args, **kwargs)\n",
    "        return cache[key]\n",
    "    return _cached\n"
   ]
  },
  {
   "cell_type": "code",
   "execution_count": 87,
   "id": "2ac5b907-0674-4a0f-86a4-ee4ed72053a4",
   "metadata": {},
   "outputs": [],
   "source": [
    "@cached\n",
    "def add(a, b):\n",
    "    print('adding ...')\n",
    "    return a + b"
   ]
  },
  {
   "cell_type": "code",
   "execution_count": 88,
   "id": "b1024edc-e7fb-46e7-95c5-4fc6945ad1e1",
   "metadata": {},
   "outputs": [
    {
     "name": "stdout",
     "output_type": "stream",
     "text": [
      "adding ...\n"
     ]
    },
    {
     "data": {
      "text/plain": [
       "7"
      ]
     },
     "execution_count": 88,
     "metadata": {},
     "output_type": "execute_result"
    }
   ],
   "source": [
    "add(3, 4)"
   ]
  },
  {
   "cell_type": "code",
   "execution_count": 89,
   "id": "a75f9e68-8e72-4c07-8e33-7e9cc33d181d",
   "metadata": {},
   "outputs": [
    {
     "data": {
      "text/plain": [
       "7"
      ]
     },
     "execution_count": 89,
     "metadata": {},
     "output_type": "execute_result"
    }
   ],
   "source": [
    "add(3, 4)"
   ]
  },
  {
   "cell_type": "code",
   "execution_count": 90,
   "id": "165aaba5-bc14-4d02-bc2b-bf81fa513164",
   "metadata": {},
   "outputs": [
    {
     "name": "stdout",
     "output_type": "stream",
     "text": [
      "adding ...\n"
     ]
    },
    {
     "data": {
      "text/plain": [
       "7"
      ]
     },
     "execution_count": 90,
     "metadata": {},
     "output_type": "execute_result"
    }
   ],
   "source": [
    "add(3, b=4)"
   ]
  },
  {
   "cell_type": "code",
   "execution_count": 92,
   "id": "cabcd3c9-edf5-40fc-b982-7ecaf325c988",
   "metadata": {},
   "outputs": [
    {
     "data": {
      "text/plain": [
       "{b'\\x80\\x04\\x95\\x0b\\x00\\x00\\x00\\x00\\x00\\x00\\x00K\\x03K\\x04\\x86\\x94}\\x94\\x86\\x94.': 7,\n",
       " b'\\x80\\x04\\x95\\x10\\x00\\x00\\x00\\x00\\x00\\x00\\x00K\\x03\\x85\\x94}\\x94\\x8c\\x01b\\x94K\\x04s\\x86\\x94.': 7}"
      ]
     },
     "execution_count": 92,
     "metadata": {},
     "output_type": "execute_result"
    }
   ],
   "source": [
    "add.__closure__[0].cell_contents"
   ]
  },
  {
   "cell_type": "code",
   "execution_count": 94,
   "id": "ba39d97e-5ea2-43cf-a33d-382dc1352183",
   "metadata": {},
   "outputs": [],
   "source": [
    "# %load logged.py\n",
    "\"\"\"Helper to switch on and off logging of decorated functions.\n",
    "\"\"\"\n",
    "\n",
    "import functools\n",
    "\n",
    "LOGGING = False\n",
    "\n",
    "\n",
    "def logged(func):\n",
    "    \"\"\"Decorator for logging.\n",
    "    \"\"\"\n",
    "\n",
    "    @functools.wraps(func)\n",
    "    def _logged(*args, **kwargs):\n",
    "        \"\"\"Takes the arguments\n",
    "        \"\"\"\n",
    "        if LOGGING:\n",
    "            print('logged') # do proper logging here\n",
    "        return func(*args, **kwargs)\n",
    "    return _logged\n"
   ]
  },
  {
   "cell_type": "code",
   "execution_count": 95,
   "id": "2b679785-b9d8-4ec8-a389-dcb32e32b820",
   "metadata": {},
   "outputs": [],
   "source": [
    "@logged\n",
    "def add(a, b):\n",
    "    return a + b"
   ]
  },
  {
   "cell_type": "code",
   "execution_count": 96,
   "id": "025907a0-32c4-4f71-a044-53842a254ae1",
   "metadata": {},
   "outputs": [
    {
     "data": {
      "text/plain": [
       "7"
      ]
     },
     "execution_count": 96,
     "metadata": {},
     "output_type": "execute_result"
    }
   ],
   "source": [
    "add(3, 4)"
   ]
  },
  {
   "cell_type": "code",
   "execution_count": 97,
   "id": "c1b269a7-87fb-4bdb-bcd2-7434a65ee21d",
   "metadata": {},
   "outputs": [],
   "source": [
    "LOGGING = True"
   ]
  },
  {
   "cell_type": "code",
   "execution_count": 98,
   "id": "70f5389c-5f0b-414c-a0ae-3b2dbb38ed85",
   "metadata": {},
   "outputs": [
    {
     "name": "stdout",
     "output_type": "stream",
     "text": [
      "logged\n"
     ]
    },
    {
     "data": {
      "text/plain": [
       "9"
      ]
     },
     "execution_count": 98,
     "metadata": {},
     "output_type": "execute_result"
    }
   ],
   "source": [
    "add(4, 5)"
   ]
  },
  {
   "cell_type": "code",
   "execution_count": 105,
   "id": "6a7663b8-2b6f-43cc-917d-74d770c01a02",
   "metadata": {},
   "outputs": [],
   "source": [
    "LOGGING = True\n",
    "\n",
    "\n",
    "def logged2(func):\n",
    "    \"\"\"Decorator for logging.\n",
    "    \"\"\"\n",
    "\n",
    "    if LOGGING:\n",
    "        @functools.wraps(func)\n",
    "        def _logged(*args, **kwargs):\n",
    "            \"\"\"Takes the arguments\n",
    "            \"\"\"    \n",
    "            print('logged') # do proper logging here\n",
    "            return func(*args, **kwargs)\n",
    "        return _logged\n",
    "    return func"
   ]
  },
  {
   "cell_type": "code",
   "execution_count": 106,
   "id": "f3777d83-7508-4390-b700-2595c850e903",
   "metadata": {},
   "outputs": [],
   "source": [
    "@logged2\n",
    "def add(a, b):\n",
    "    return a + b"
   ]
  },
  {
   "cell_type": "code",
   "execution_count": 107,
   "id": "b8f0e1d3-b523-4541-99cd-20cbcfff1b36",
   "metadata": {},
   "outputs": [
    {
     "name": "stdout",
     "output_type": "stream",
     "text": [
      "logged\n"
     ]
    },
    {
     "data": {
      "text/plain": [
       "7"
      ]
     },
     "execution_count": 107,
     "metadata": {},
     "output_type": "execute_result"
    }
   ],
   "source": [
    "add(3, 4)"
   ]
  },
  {
   "cell_type": "code",
   "execution_count": 103,
   "id": "e294672f-5d08-482f-b945-d18d417d1f73",
   "metadata": {},
   "outputs": [],
   "source": [
    "LOGGING = True"
   ]
  },
  {
   "cell_type": "code",
   "execution_count": 104,
   "id": "1723f490-1ac1-4b7c-b46f-eab9c5c3c4df",
   "metadata": {},
   "outputs": [
    {
     "data": {
      "text/plain": [
       "9"
      ]
     },
     "execution_count": 104,
     "metadata": {},
     "output_type": "execute_result"
    }
   ],
   "source": [
    "add(4, 5)"
   ]
  },
  {
   "cell_type": "code",
   "execution_count": 112,
   "id": "6fefa71c-9bcf-499f-9acd-046b5341de92",
   "metadata": {},
   "outputs": [],
   "source": [
    "from timeit import default_timer\n",
    "from time import sleep"
   ]
  },
  {
   "cell_type": "code",
   "execution_count": 113,
   "id": "6df33741-7eac-4c27-9a24-c6602db1158f",
   "metadata": {},
   "outputs": [
    {
     "data": {
      "text/plain": [
       "1.0025245829019696"
      ]
     },
     "execution_count": 113,
     "metadata": {},
     "output_type": "execute_result"
    }
   ],
   "source": [
    "start = default_timer()\n",
    "sleep(1)\n",
    "end = default_timer()\n",
    "end - start"
   ]
  },
  {
   "cell_type": "code",
   "execution_count": 114,
   "id": "de3a01e8-6670-4693-8604-425803c3b04a",
   "metadata": {},
   "outputs": [
    {
     "name": "stdout",
     "output_type": "stream",
     "text": [
      "4.1 ns ± 0.00888 ns per loop (mean ± std. dev. of 7 runs, 100,000,000 loops each)\n"
     ]
    }
   ],
   "source": [
    "%timeit 1 + 1"
   ]
  },
  {
   "cell_type": "code",
   "execution_count": 147,
   "id": "1fcccd32-cdfd-47f8-a732-5e87d74eac6a",
   "metadata": {},
   "outputs": [],
   "source": [
    "from timeit import default_timer\n",
    "\n",
    "\n",
    "def measure_time(func):\n",
    "    times = []\n",
    "    @wraps(func)\n",
    "    def _measure_time(*args, **kwargs):\n",
    "        n = 1000\n",
    "        start = default_timer()\n",
    "        for _ in range(n):\n",
    "            res = func(*args, **kwargs)\n",
    "        duration = (default_timer() - start) / n\n",
    "        times.append(duration)\n",
    "        return res\n",
    "    _measure_time.times = times\n",
    "    return _measure_time"
   ]
  },
  {
   "cell_type": "code",
   "execution_count": 148,
   "id": "a53df9cd-dd06-4316-a558-a9d177bfed26",
   "metadata": {},
   "outputs": [],
   "source": [
    "@measure_time\n",
    "def add(a, b):\n",
    "    return a + b"
   ]
  },
  {
   "cell_type": "code",
   "execution_count": 151,
   "id": "1f65788d-7e56-4d3a-8493-396d54ec465b",
   "metadata": {},
   "outputs": [
    {
     "data": {
      "text/plain": [
       "7"
      ]
     },
     "execution_count": 151,
     "metadata": {},
     "output_type": "execute_result"
    }
   ],
   "source": [
    "add(3, 4)\n",
    "add(3, 4)"
   ]
  },
  {
   "cell_type": "code",
   "execution_count": 152,
   "id": "1bd70a03-14ee-4dd5-a8a1-f86a51d3f836",
   "metadata": {},
   "outputs": [
    {
     "data": {
      "text/plain": [
       "[2.0287488587200642e-07, 1.9870814867317678e-07, 1.9666599109768867e-07]"
      ]
     },
     "execution_count": 152,
     "metadata": {},
     "output_type": "execute_result"
    }
   ],
   "source": [
    "add.times"
   ]
  },
  {
   "cell_type": "code",
   "execution_count": 153,
   "id": "0a8aa471-52ce-4998-affd-3d9746691ac0",
   "metadata": {},
   "outputs": [],
   "source": [
    "@measure_time\n",
    "def f():\n",
    "    pass"
   ]
  },
  {
   "cell_type": "code",
   "execution_count": 155,
   "id": "add7bdf5-97d2-4ace-aaaa-9f2e3e8f5962",
   "metadata": {},
   "outputs": [],
   "source": [
    "f()"
   ]
  },
  {
   "cell_type": "code",
   "execution_count": 156,
   "id": "87696f64-16b2-43b1-9f1a-64bda744e10b",
   "metadata": {},
   "outputs": [
    {
     "data": {
      "text/plain": [
       "[1.657919492572546e-07]"
      ]
     },
     "execution_count": 156,
     "metadata": {},
     "output_type": "execute_result"
    }
   ],
   "source": [
    "f.times"
   ]
  },
  {
   "cell_type": "code",
   "execution_count": 157,
   "id": "279becfd-4302-4f96-895b-e9f0bc9b4d25",
   "metadata": {},
   "outputs": [],
   "source": [
    "import sys"
   ]
  },
  {
   "cell_type": "code",
   "execution_count": 158,
   "id": "8abbe3dc-dbda-450c-bd8d-155f17277d09",
   "metadata": {},
   "outputs": [
    {
     "data": {
      "text/plain": [
       "988"
      ]
     },
     "execution_count": 158,
     "metadata": {},
     "output_type": "execute_result"
    }
   ],
   "source": [
    "len(sys.modules)"
   ]
  },
  {
   "cell_type": "code",
   "execution_count": 159,
   "id": "0942a04b-4244-453d-8eb6-a0a7c68cdfd6",
   "metadata": {},
   "outputs": [
    {
     "data": {
      "text/plain": [
       "True"
      ]
     },
     "execution_count": 159,
     "metadata": {},
     "output_type": "execute_result"
    }
   ],
   "source": [
    "'os' in sys.modules"
   ]
  },
  {
   "cell_type": "code",
   "execution_count": 160,
   "id": "d42fa83c-c0f0-4b43-9aca-e963e46a204d",
   "metadata": {},
   "outputs": [
    {
     "data": {
      "text/plain": [
       "<function __main__.add(a, b)>"
      ]
     },
     "execution_count": 160,
     "metadata": {},
     "output_type": "execute_result"
    }
   ],
   "source": [
    "add"
   ]
  },
  {
   "cell_type": "code",
   "execution_count": 161,
   "id": "4b7f0e4d-1cfa-4eb6-a0a6-9964c50da112",
   "metadata": {},
   "outputs": [
    {
     "data": {
      "text/plain": [
       "<function __main__.add(a, b)>"
      ]
     },
     "execution_count": 161,
     "metadata": {},
     "output_type": "execute_result"
    }
   ],
   "source": [
    "add.__wrapped__"
   ]
  },
  {
   "cell_type": "code",
   "execution_count": null,
   "id": "c528e0c1-7a05-4d40-b605-d4018debfb14",
   "metadata": {},
   "outputs": [],
   "source": []
  }
 ],
 "metadata": {
  "kernelspec": {
   "display_name": "Python 3 (ipykernel)",
   "language": "python",
   "name": "python3"
  },
  "language_info": {
   "codemirror_mode": {
    "name": "ipython",
    "version": 3
   },
   "file_extension": ".py",
   "mimetype": "text/x-python",
   "name": "python",
   "nbconvert_exporter": "python",
   "pygments_lexer": "ipython3",
   "version": "3.11.4"
  }
 },
 "nbformat": 4,
 "nbformat_minor": 5
}
