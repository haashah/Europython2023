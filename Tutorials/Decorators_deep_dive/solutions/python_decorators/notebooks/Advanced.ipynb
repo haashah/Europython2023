{
 "cells": [
  {
   "cell_type": "code",
   "execution_count": 1,
   "id": "7eb7078c-f3b4-4ab1-9855-d9f3c6b7911a",
   "metadata": {},
   "outputs": [],
   "source": [
    "def say(text):\n",
    "    def _say(func):\n",
    "        def __say(*args, **kwargs):\n",
    "            print(text)\n",
    "            return func(*args, **kwargs)\n",
    "        return __say\n",
    "    return _say"
   ]
  },
  {
   "cell_type": "code",
   "execution_count": 2,
   "id": "d55b1903-9ef4-4e80-8f76-58ac610e708e",
   "metadata": {},
   "outputs": [],
   "source": [
    "@say('Hello')\n",
    "def add(a, b):\n",
    "    return a + b"
   ]
  },
  {
   "cell_type": "code",
   "execution_count": 4,
   "id": "903187cc-f477-4fcf-8ee0-6ff38cf33194",
   "metadata": {},
   "outputs": [
    {
     "name": "stdout",
     "output_type": "stream",
     "text": [
      "Hello\n"
     ]
    },
    {
     "data": {
      "text/plain": [
       "7"
      ]
     },
     "execution_count": 4,
     "metadata": {},
     "output_type": "execute_result"
    }
   ],
   "source": [
    "add(3, 4)"
   ]
  },
  {
   "cell_type": "code",
   "execution_count": 5,
   "id": "4513be65-1e97-4354-b4da-7fa66c4d4f8c",
   "metadata": {},
   "outputs": [],
   "source": [
    "@say('Goodbye')\n",
    "def add(a, b):\n",
    "    return a + b"
   ]
  },
  {
   "cell_type": "code",
   "execution_count": 6,
   "id": "2e23301d-4c84-415b-a864-d39c6b14467d",
   "metadata": {},
   "outputs": [
    {
     "name": "stdout",
     "output_type": "stream",
     "text": [
      "Goodbye\n"
     ]
    },
    {
     "data": {
      "text/plain": [
       "7"
      ]
     },
     "execution_count": 6,
     "metadata": {},
     "output_type": "execute_result"
    }
   ],
   "source": [
    "add(3, 4)"
   ]
  },
  {
   "cell_type": "code",
   "execution_count": 7,
   "id": "e9972445-bd5f-40d4-8400-f4b56c20f7d9",
   "metadata": {},
   "outputs": [],
   "source": [
    "@say('Hello')\n",
    "@say('Goodbye')\n",
    "def add(a, b):\n",
    "    return a + b"
   ]
  },
  {
   "cell_type": "code",
   "execution_count": 8,
   "id": "4e15b4e7-782f-4253-8779-74323430a060",
   "metadata": {},
   "outputs": [
    {
     "name": "stdout",
     "output_type": "stream",
     "text": [
      "Hello\n",
      "Goodbye\n"
     ]
    },
    {
     "data": {
      "text/plain": [
       "7"
      ]
     },
     "execution_count": 8,
     "metadata": {},
     "output_type": "execute_result"
    }
   ],
   "source": [
    "add(3, 4)"
   ]
  },
  {
   "cell_type": "code",
   "execution_count": 9,
   "id": "b2db6ee8-ebc6-415e-8d7b-deaa6167a09f",
   "metadata": {},
   "outputs": [],
   "source": [
    "def add(a, b):\n",
    "    return a + b\n",
    "\n",
    "add = say('Hello')(add)"
   ]
  },
  {
   "cell_type": "code",
   "execution_count": 10,
   "id": "d56ce776-aca6-4c4d-9891-0e8654724f3c",
   "metadata": {},
   "outputs": [
    {
     "name": "stdout",
     "output_type": "stream",
     "text": [
      "Hello\n"
     ]
    },
    {
     "data": {
      "text/plain": [
       "9"
      ]
     },
     "execution_count": 10,
     "metadata": {},
     "output_type": "execute_result"
    }
   ],
   "source": [
    "add(4, 5)"
   ]
  },
  {
   "cell_type": "code",
   "execution_count": 14,
   "id": "19e9aef4-044b-403e-90c2-975d2a5eedf5",
   "metadata": {},
   "outputs": [],
   "source": [
    "def add(a, b):\n",
    "    return a + b\n",
    "\n",
    "add = say('Goodbye')(add)\n",
    "add = say('Hello')(add)"
   ]
  },
  {
   "cell_type": "code",
   "execution_count": 15,
   "id": "209e4a65-c138-4018-ac26-424aae6436bd",
   "metadata": {},
   "outputs": [
    {
     "name": "stdout",
     "output_type": "stream",
     "text": [
      "Hello\n",
      "Goodbye\n"
     ]
    },
    {
     "data": {
      "text/plain": [
       "7"
      ]
     },
     "execution_count": 15,
     "metadata": {},
     "output_type": "execute_result"
    }
   ],
   "source": [
    "add(3, 4)"
   ]
  },
  {
   "cell_type": "code",
   "execution_count": 16,
   "id": "2413aaa6-ae0a-46e2-8119-8d0b8c7f00db",
   "metadata": {},
   "outputs": [
    {
     "data": {
      "text/plain": [
       "4"
      ]
     },
     "execution_count": 16,
     "metadata": {},
     "output_type": "execute_result"
    }
   ],
   "source": [
    "int('4')"
   ]
  },
  {
   "cell_type": "code",
   "execution_count": 17,
   "id": "fe0cbe30-9eeb-433b-8233-cb544257a23f",
   "metadata": {},
   "outputs": [
    {
     "data": {
      "text/plain": [
       "type"
      ]
     },
     "execution_count": 17,
     "metadata": {},
     "output_type": "execute_result"
    }
   ],
   "source": [
    "type(int)"
   ]
  },
  {
   "cell_type": "code",
   "execution_count": 18,
   "id": "a984fb72-7dad-496b-9865-b0f1b73c5f4b",
   "metadata": {},
   "outputs": [
    {
     "data": {
      "text/plain": [
       "4"
      ]
     },
     "execution_count": 18,
     "metadata": {},
     "output_type": "execute_result"
    }
   ],
   "source": [
    "int.__call__('4')"
   ]
  },
  {
   "cell_type": "code",
   "execution_count": 19,
   "id": "14bd5442-6a85-481f-a93d-5caa783d9436",
   "metadata": {},
   "outputs": [
    {
     "name": "stdout",
     "output_type": "stream",
     "text": [
      "Hello\n",
      "Goodbye\n"
     ]
    },
    {
     "data": {
      "text/plain": [
       "7"
      ]
     },
     "execution_count": 19,
     "metadata": {},
     "output_type": "execute_result"
    }
   ],
   "source": [
    "add.__call__(3, 4)"
   ]
  },
  {
   "cell_type": "code",
   "execution_count": 20,
   "id": "326fc7c8-326d-480a-b309-51ba8cdba32a",
   "metadata": {},
   "outputs": [],
   "source": [
    "class CallCounter:\n",
    "\n",
    "    def __init__(self):\n",
    "        self.counter = 0\n",
    "\n",
    "    def __call__(self):\n",
    "        self.counter += 1"
   ]
  },
  {
   "cell_type": "code",
   "execution_count": 21,
   "id": "d0ca5152-8cc6-4a68-afcb-faead10fd5d6",
   "metadata": {},
   "outputs": [],
   "source": [
    "my_func = CallCounter()"
   ]
  },
  {
   "cell_type": "code",
   "execution_count": 22,
   "id": "6fb5e62d-4377-4165-a95e-2eb8a4d42038",
   "metadata": {},
   "outputs": [
    {
     "data": {
      "text/plain": [
       "0"
      ]
     },
     "execution_count": 22,
     "metadata": {},
     "output_type": "execute_result"
    }
   ],
   "source": [
    "my_func.counter"
   ]
  },
  {
   "cell_type": "code",
   "execution_count": 23,
   "id": "0a21d007-8777-4060-8551-e706ad4d1188",
   "metadata": {},
   "outputs": [],
   "source": [
    "my_func()"
   ]
  },
  {
   "cell_type": "code",
   "execution_count": 24,
   "id": "de0ca43f-30c1-43f3-bc2c-249e6db17a09",
   "metadata": {},
   "outputs": [
    {
     "data": {
      "text/plain": [
       "1"
      ]
     },
     "execution_count": 24,
     "metadata": {},
     "output_type": "execute_result"
    }
   ],
   "source": [
    "my_func.counter"
   ]
  },
  {
   "cell_type": "code",
   "execution_count": 25,
   "id": "34e35ecd-5238-4f9f-a07a-c6be3b23772f",
   "metadata": {},
   "outputs": [],
   "source": [
    "my_func.__call__()"
   ]
  },
  {
   "cell_type": "code",
   "execution_count": 26,
   "id": "eed3e93a-b59c-4e0d-bd63-f2ff9adc7f88",
   "metadata": {},
   "outputs": [
    {
     "data": {
      "text/plain": [
       "2"
      ]
     },
     "execution_count": 26,
     "metadata": {},
     "output_type": "execute_result"
    }
   ],
   "source": [
    "my_func.counter"
   ]
  },
  {
   "cell_type": "code",
   "execution_count": 27,
   "id": "126c9cfc-feb1-499b-a687-5575f725fdda",
   "metadata": {},
   "outputs": [],
   "source": [
    "from functools import wraps"
   ]
  },
  {
   "cell_type": "code",
   "execution_count": 29,
   "id": "6ed3ef61-bd4d-4c8f-9c62-bc4e84a6ae14",
   "metadata": {},
   "outputs": [],
   "source": [
    "class Say:\n",
    "\n",
    "    def __init__(self, text):\n",
    "        self.text = text\n",
    "\n",
    "    def __call__(self, func):\n",
    "        @wraps(func)\n",
    "        def say(*args, **kwargs):\n",
    "            print(self.text)\n",
    "            return func(*args, **kwargs)\n",
    "        return say"
   ]
  },
  {
   "cell_type": "code",
   "execution_count": 30,
   "id": "00d6b749-73fe-4201-875d-135ab33588ed",
   "metadata": {},
   "outputs": [],
   "source": [
    "@Say('Hello')\n",
    "def add(a, b):\n",
    "    return a + b\n",
    "    "
   ]
  },
  {
   "cell_type": "code",
   "execution_count": 31,
   "id": "97a6c5cf-398f-4273-b2c9-cbe3293702ea",
   "metadata": {},
   "outputs": [
    {
     "name": "stdout",
     "output_type": "stream",
     "text": [
      "Hello\n"
     ]
    },
    {
     "data": {
      "text/plain": [
       "7"
      ]
     },
     "execution_count": 31,
     "metadata": {},
     "output_type": "execute_result"
    }
   ],
   "source": [
    "add(3, 4)"
   ]
  },
  {
   "cell_type": "code",
   "execution_count": 32,
   "id": "f1ce9d6a-4f26-4f5f-81f0-dc25f50317af",
   "metadata": {},
   "outputs": [
    {
     "name": "stdout",
     "output_type": "stream",
     "text": [
      "/Users/mike/pya/Konferenzen/EuroPython/EuroPython2023/Tutorial/decorators\n"
     ]
    }
   ],
   "source": [
    "%cd decorators/"
   ]
  },
  {
   "cell_type": "code",
   "execution_count": 39,
   "id": "0d2b3a1c-3b79-4681-8e31-37657eee8663",
   "metadata": {},
   "outputs": [],
   "source": [
    "# %load argcheck.py\n",
    "\"\"\"Check function arguments for given type.\n",
    "\"\"\"\n",
    "\n",
    "import functools\n",
    "\n",
    "\n",
    "def check(*argtypes):\n",
    "    \"\"\"Function argument type checker.\n",
    "    \"\"\"\n",
    "\n",
    "    def _check(func):\n",
    "        \"\"\"Takes the function.\n",
    "        \"\"\"\n",
    "\n",
    "        @functools.wraps(func)\n",
    "        def __check(*args):\n",
    "            \"\"\"Takes the arguments\n",
    "            \"\"\"\n",
    "            if len(args) != len(argtypes):\n",
    "                msg = f'Expected {len(argtypes)} but got {len(args)} arguments'\n",
    "                raise TypeError(msg)\n",
    "            for arg, argtype in zip(args, argtypes):\n",
    "                if not isinstance(arg, argtype):\n",
    "                    msg = f'Expected {argtypes} but got '\n",
    "                    msg += f'{tuple(type(arg) for arg in args)}'\n",
    "                    raise TypeError(msg)\n",
    "            return func(*args)\n",
    "        return __check\n",
    "    return _check\n"
   ]
  },
  {
   "cell_type": "code",
   "execution_count": 34,
   "id": "742a58c9-a610-4302-ae8a-990aa6ebbadf",
   "metadata": {},
   "outputs": [
    {
     "data": {
      "text/plain": [
       "int"
      ]
     },
     "execution_count": 34,
     "metadata": {},
     "output_type": "execute_result"
    }
   ],
   "source": [
    "type(1)"
   ]
  },
  {
   "cell_type": "code",
   "execution_count": 35,
   "id": "ffa072ed-d5f8-48a3-8548-268c9fa84530",
   "metadata": {},
   "outputs": [
    {
     "data": {
      "text/plain": [
       "bool"
      ]
     },
     "execution_count": 35,
     "metadata": {},
     "output_type": "execute_result"
    }
   ],
   "source": [
    "type(True)"
   ]
  },
  {
   "cell_type": "code",
   "execution_count": 36,
   "id": "7164b058-7835-4b71-88fe-20dc046b6bea",
   "metadata": {},
   "outputs": [
    {
     "data": {
      "text/plain": [
       "True"
      ]
     },
     "execution_count": 36,
     "metadata": {},
     "output_type": "execute_result"
    }
   ],
   "source": [
    "isinstance(True, int)"
   ]
  },
  {
   "cell_type": "code",
   "execution_count": 37,
   "id": "b978cbda-c400-4ca9-af87-d8a9956b075a",
   "metadata": {},
   "outputs": [
    {
     "data": {
      "text/plain": [
       "[bool, int, object]"
      ]
     },
     "execution_count": 37,
     "metadata": {},
     "output_type": "execute_result"
    }
   ],
   "source": [
    "bool.mro()"
   ]
  },
  {
   "cell_type": "code",
   "execution_count": 38,
   "id": "d0e1c14f-c95d-49c2-b99c-7a1e7eb5240a",
   "metadata": {},
   "outputs": [
    {
     "data": {
      "text/plain": [
       "2"
      ]
     },
     "execution_count": 38,
     "metadata": {},
     "output_type": "execute_result"
    }
   ],
   "source": [
    "True + True"
   ]
  },
  {
   "cell_type": "code",
   "execution_count": 40,
   "id": "9bf3c5bb-704c-4853-8314-1dd606d432d8",
   "metadata": {},
   "outputs": [],
   "source": [
    "@check(float, float)\n",
    "def add(a, b):\n",
    "    return a + b"
   ]
  },
  {
   "cell_type": "code",
   "execution_count": 42,
   "id": "2518b45e-3657-4bb9-b300-b75985f8edef",
   "metadata": {},
   "outputs": [
    {
     "data": {
      "text/plain": [
       "7.0"
      ]
     },
     "execution_count": 42,
     "metadata": {},
     "output_type": "execute_result"
    }
   ],
   "source": [
    "add(3., 4.)"
   ]
  },
  {
   "cell_type": "code",
   "execution_count": 44,
   "id": "197fdb19-8994-45e6-ace6-6c363ba42b5f",
   "metadata": {},
   "outputs": [],
   "source": [
    "# %load registering.py\n",
    "\"\"\"A function registry.\n",
    "\"\"\"\n",
    "\n",
    "import functools\n",
    "\n",
    "registry = {}\n",
    "\n",
    "\n",
    "def register_at_call(name):\n",
    "    \"\"\"Register the decorated function at call time.\n",
    "    \"\"\"\n",
    "\n",
    "    def _register(func):\n",
    "        \"\"\"Takes the function.\n",
    "        \"\"\"\n",
    "\n",
    "        @functools.wraps(func)\n",
    "        def __register(*args, **kwargs):\n",
    "            \"\"\"Takes the arguments.\n",
    "            \"\"\"\n",
    "            registry.setdefault(name, []).append(func)\n",
    "            return func(*args, **kwargs)\n",
    "        return __register\n",
    "    return _register\n",
    "\n",
    "\n",
    "def register_at_def(name):\n",
    "    \"\"\"Register the decorated function at definition time.\n",
    "    \"\"\"\n",
    "\n",
    "    def _register(func):\n",
    "        \"\"\"Takes the function.\n",
    "        \"\"\"\n",
    "        registry.setdefault(name, []).append(func)\n",
    "\n",
    "        return func\n",
    "    return _register\n"
   ]
  },
  {
   "cell_type": "code",
   "execution_count": 45,
   "id": "a72d2427-34c4-4598-8606-cd5761b728e1",
   "metadata": {},
   "outputs": [],
   "source": [
    "@register_at_call('simple')\n",
    "def add1(a, b):\n",
    "    return a + b"
   ]
  },
  {
   "cell_type": "code",
   "execution_count": 46,
   "id": "afb58291-406d-420a-93ce-c65aacfaca31",
   "metadata": {},
   "outputs": [
    {
     "data": {
      "text/plain": [
       "{}"
      ]
     },
     "execution_count": 46,
     "metadata": {},
     "output_type": "execute_result"
    }
   ],
   "source": [
    "registry"
   ]
  },
  {
   "cell_type": "code",
   "execution_count": 47,
   "id": "46c01780-86a9-4167-b7a7-dd8bff8d892e",
   "metadata": {},
   "outputs": [
    {
     "data": {
      "text/plain": [
       "7"
      ]
     },
     "execution_count": 47,
     "metadata": {},
     "output_type": "execute_result"
    }
   ],
   "source": [
    "add1(3, 4)"
   ]
  },
  {
   "cell_type": "code",
   "execution_count": 48,
   "id": "a9ca7e40-a7c2-46aa-8ba9-ea9c2344d158",
   "metadata": {},
   "outputs": [
    {
     "data": {
      "text/plain": [
       "{'simple': [<function __main__.add1(a, b)>]}"
      ]
     },
     "execution_count": 48,
     "metadata": {},
     "output_type": "execute_result"
    }
   ],
   "source": [
    "registry"
   ]
  },
  {
   "cell_type": "code",
   "execution_count": 49,
   "id": "866d241a-8f46-4ed8-b2d1-8cfe03f52e43",
   "metadata": {},
   "outputs": [],
   "source": [
    "@register_at_call('simple')\n",
    "def add2(a, b):\n",
    "    return a + b"
   ]
  },
  {
   "cell_type": "code",
   "execution_count": 50,
   "id": "0a082aa4-d9ad-45b1-a322-bd767289a03a",
   "metadata": {},
   "outputs": [
    {
     "data": {
      "text/plain": [
       "30"
      ]
     },
     "execution_count": 50,
     "metadata": {},
     "output_type": "execute_result"
    }
   ],
   "source": [
    "add2(10, 20)"
   ]
  },
  {
   "cell_type": "code",
   "execution_count": 51,
   "id": "9c4c3cfe-4838-4af8-8d03-c82185127d8d",
   "metadata": {},
   "outputs": [
    {
     "data": {
      "text/plain": [
       "{'simple': [<function __main__.add1(a, b)>, <function __main__.add2(a, b)>]}"
      ]
     },
     "execution_count": 51,
     "metadata": {},
     "output_type": "execute_result"
    }
   ],
   "source": [
    "registry"
   ]
  },
  {
   "cell_type": "code",
   "execution_count": 52,
   "id": "b698285f-0419-403f-bf62-c5919bb7b186",
   "metadata": {},
   "outputs": [],
   "source": [
    "registry.clear()"
   ]
  },
  {
   "cell_type": "code",
   "execution_count": 53,
   "id": "b299348a-53ac-4b6d-80ef-458e837e8e65",
   "metadata": {},
   "outputs": [
    {
     "data": {
      "text/plain": [
       "{}"
      ]
     },
     "execution_count": 53,
     "metadata": {},
     "output_type": "execute_result"
    }
   ],
   "source": [
    "registry"
   ]
  },
  {
   "cell_type": "code",
   "execution_count": 54,
   "id": "5194f966-21d5-4f0b-9529-8b521a3abbff",
   "metadata": {},
   "outputs": [],
   "source": [
    "@register_at_def('complex')\n",
    "def add3(a, b):\n",
    "    return a + b"
   ]
  },
  {
   "cell_type": "code",
   "execution_count": 55,
   "id": "1e0e17aa-f617-4fad-8f4e-4ee0e795928c",
   "metadata": {},
   "outputs": [
    {
     "data": {
      "text/plain": [
       "{'complex': [<function __main__.add3(a, b)>]}"
      ]
     },
     "execution_count": 55,
     "metadata": {},
     "output_type": "execute_result"
    }
   ],
   "source": [
    "registry"
   ]
  },
  {
   "cell_type": "code",
   "execution_count": 56,
   "id": "3b4801bc-d81a-4520-986f-df4beb2d0bd3",
   "metadata": {},
   "outputs": [
    {
     "data": {
      "text/plain": [
       "7"
      ]
     },
     "execution_count": 56,
     "metadata": {},
     "output_type": "execute_result"
    }
   ],
   "source": [
    "add3(3, 4)"
   ]
  },
  {
   "cell_type": "code",
   "execution_count": 57,
   "id": "9fc0f7db-d10a-4cb3-bcda-341f8070ce5a",
   "metadata": {},
   "outputs": [
    {
     "data": {
      "text/plain": [
       "{'complex': [<function __main__.add3(a, b)>]}"
      ]
     },
     "execution_count": 57,
     "metadata": {},
     "output_type": "execute_result"
    }
   ],
   "source": [
    "registry"
   ]
  },
  {
   "cell_type": "markdown",
   "id": "43cf59b2-7526-465e-af3b-9597f00805b2",
   "metadata": {},
   "source": [
    "# Class decorator"
   ]
  },
  {
   "cell_type": "code",
   "execution_count": 58,
   "id": "655ff1bb-5102-4aea-899d-7fa971f27ff7",
   "metadata": {},
   "outputs": [],
   "source": [
    "def mark(cls):\n",
    "    cls.new = 100\n",
    "    return cls"
   ]
  },
  {
   "cell_type": "code",
   "execution_count": 59,
   "id": "2e288cd4-a42a-42ea-b169-d7aa08f17e01",
   "metadata": {},
   "outputs": [],
   "source": [
    "@mark\n",
    "class A:\n",
    "    pass"
   ]
  },
  {
   "cell_type": "code",
   "execution_count": 60,
   "id": "2cf0a61a-7f78-4c2d-8004-31841e236d3b",
   "metadata": {},
   "outputs": [
    {
     "data": {
      "text/plain": [
       "100"
      ]
     },
     "execution_count": 60,
     "metadata": {},
     "output_type": "execute_result"
    }
   ],
   "source": [
    "A.new"
   ]
  },
  {
   "cell_type": "code",
   "execution_count": 61,
   "id": "1120e51f-251e-4b5a-aae4-558ffa0e3797",
   "metadata": {},
   "outputs": [],
   "source": [
    "class B(A):\n",
    "    pass"
   ]
  },
  {
   "cell_type": "code",
   "execution_count": 62,
   "id": "cdc5cc5b-09bf-4f70-ab5c-58cb618475f8",
   "metadata": {},
   "outputs": [
    {
     "data": {
      "text/plain": [
       "100"
      ]
     },
     "execution_count": 62,
     "metadata": {},
     "output_type": "execute_result"
    }
   ],
   "source": [
    "B.new"
   ]
  },
  {
   "cell_type": "code",
   "execution_count": 63,
   "id": "f9bddfb0-adce-4b4c-8213-876b42d90dc0",
   "metadata": {},
   "outputs": [],
   "source": [
    "class C:\n",
    "\n",
    "    def meth1(self):\n",
    "        pass\n",
    "\n",
    "    def meth2(self):\n",
    "        pass"
   ]
  },
  {
   "cell_type": "code",
   "execution_count": 64,
   "id": "5740d008-a5a3-471f-a487-29eb72334380",
   "metadata": {},
   "outputs": [
    {
     "data": {
      "text/plain": [
       "mappingproxy({'__module__': '__main__',\n",
       "              'meth1': <function __main__.C.meth1(self)>,\n",
       "              'meth2': <function __main__.C.meth2(self)>,\n",
       "              '__dict__': <attribute '__dict__' of 'C' objects>,\n",
       "              '__weakref__': <attribute '__weakref__' of 'C' objects>,\n",
       "              '__doc__': None})"
      ]
     },
     "execution_count": 64,
     "metadata": {},
     "output_type": "execute_result"
    }
   ],
   "source": [
    "C.__dict__"
   ]
  },
  {
   "cell_type": "code",
   "execution_count": 65,
   "id": "3c4fb107-b932-49ab-bc0e-ee15cb7c4205",
   "metadata": {},
   "outputs": [],
   "source": [
    "def required_methods(cls):\n",
    "    for x in range(1, 6):\n",
    "        if not f'meth{x}' in cls.__dict__:\n",
    "            raise AttributeError(f'attribute meth{x} not found')\n",
    "    return cls"
   ]
  },
  {
   "cell_type": "code",
   "execution_count": 66,
   "id": "0ad3968b-b6ca-4927-8a7f-fe3a9ac319c3",
   "metadata": {},
   "outputs": [
    {
     "ename": "AttributeError",
     "evalue": "attribute meth3 not found",
     "output_type": "error",
     "traceback": [
      "\u001b[0;31m---------------------------------------------------------------------------\u001b[0m",
      "\u001b[0;31mAttributeError\u001b[0m                            Traceback (most recent call last)",
      "Cell \u001b[0;32mIn[66], line 1\u001b[0m\n\u001b[0;32m----> 1\u001b[0m \u001b[38;5;129;43m@required_methods\u001b[39;49m\n\u001b[1;32m      2\u001b[0m \u001b[38;5;28;43;01mclass\u001b[39;49;00m\u001b[43m \u001b[49m\u001b[38;5;21;43;01mC\u001b[39;49;00m\u001b[43m:\u001b[49m\n\u001b[1;32m      4\u001b[0m \u001b[43m    \u001b[49m\u001b[38;5;28;43;01mdef\u001b[39;49;00m\u001b[43m \u001b[49m\u001b[38;5;21;43mmeth1\u001b[39;49m\u001b[43m(\u001b[49m\u001b[38;5;28;43mself\u001b[39;49m\u001b[43m)\u001b[49m\u001b[43m:\u001b[49m\n\u001b[1;32m      5\u001b[0m \u001b[43m        \u001b[49m\u001b[38;5;28;43;01mpass\u001b[39;49;00m\n",
      "Cell \u001b[0;32mIn[65], line 4\u001b[0m, in \u001b[0;36mrequired_methods\u001b[0;34m(cls)\u001b[0m\n\u001b[1;32m      2\u001b[0m \u001b[38;5;28;01mfor\u001b[39;00m x \u001b[38;5;129;01min\u001b[39;00m \u001b[38;5;28mrange\u001b[39m(\u001b[38;5;241m1\u001b[39m, \u001b[38;5;241m6\u001b[39m):\n\u001b[1;32m      3\u001b[0m     \u001b[38;5;28;01mif\u001b[39;00m \u001b[38;5;129;01mnot\u001b[39;00m \u001b[38;5;124mf\u001b[39m\u001b[38;5;124m'\u001b[39m\u001b[38;5;124mmeth\u001b[39m\u001b[38;5;132;01m{\u001b[39;00mx\u001b[38;5;132;01m}\u001b[39;00m\u001b[38;5;124m'\u001b[39m \u001b[38;5;129;01min\u001b[39;00m \u001b[38;5;28mcls\u001b[39m\u001b[38;5;241m.\u001b[39m\u001b[38;5;18m__dict__\u001b[39m:\n\u001b[0;32m----> 4\u001b[0m         \u001b[38;5;28;01mraise\u001b[39;00m \u001b[38;5;167;01mAttributeError\u001b[39;00m(\u001b[38;5;124mf\u001b[39m\u001b[38;5;124m'\u001b[39m\u001b[38;5;124mattribute meth\u001b[39m\u001b[38;5;132;01m{\u001b[39;00mx\u001b[38;5;132;01m}\u001b[39;00m\u001b[38;5;124m not found\u001b[39m\u001b[38;5;124m'\u001b[39m)\n\u001b[1;32m      5\u001b[0m \u001b[38;5;28;01mreturn\u001b[39;00m \u001b[38;5;28mcls\u001b[39m\n",
      "\u001b[0;31mAttributeError\u001b[0m: attribute meth3 not found"
     ]
    }
   ],
   "source": [
    "@required_methods\n",
    "class C:\n",
    "\n",
    "    def meth1(self):\n",
    "        pass\n",
    "\n",
    "    def meth2(self):\n",
    "        pass"
   ]
  },
  {
   "cell_type": "code",
   "execution_count": 69,
   "id": "30175244-aff3-4dfb-8575-c7e62808884a",
   "metadata": {},
   "outputs": [],
   "source": [
    "def required_methods(n=5):\n",
    "    def _required_methods(cls):\n",
    "        for x in range(1, n+1):\n",
    "            if not f'meth{x}' in cls.__dict__:\n",
    "                raise AttributeError(f'attribute meth{x} not found')\n",
    "        return cls\n",
    "    return _required_methods"
   ]
  },
  {
   "cell_type": "code",
   "execution_count": 72,
   "id": "620f5cac-f825-4417-924f-7546ffaedcdb",
   "metadata": {},
   "outputs": [],
   "source": [
    "@required_methods(2)\n",
    "class C:\n",
    "\n",
    "    def meth1(self):\n",
    "        pass\n",
    "\n",
    "    def meth2(self):\n",
    "        pass"
   ]
  },
  {
   "cell_type": "code",
   "execution_count": 73,
   "id": "3e4aad0a-88fc-4b36-9a24-6ced4920d26a",
   "metadata": {},
   "outputs": [],
   "source": [
    "class D(C):\n",
    "    pass"
   ]
  },
  {
   "cell_type": "code",
   "execution_count": 74,
   "id": "f17a42e0-c4dc-4f53-997f-d7b3c7301084",
   "metadata": {},
   "outputs": [],
   "source": [
    "def super_deco(deco):\n",
    "    def _super_deco(cls):\n",
    "        for name, obj in cls.__dict__.items():\n",
    "            if callable(obj):\n",
    "                setattr(cls, name, deco(obj))\n",
    "        return cls\n",
    "    return _super_deco"
   ]
  },
  {
   "cell_type": "code",
   "execution_count": 75,
   "id": "0e27f727-2451-4aee-a8ac-2ceea40d5223",
   "metadata": {},
   "outputs": [],
   "source": [
    "@super_deco(say('Hello'))\n",
    "class All:\n",
    "\n",
    "    def meth1(self):\n",
    "        pass\n",
    "\n",
    "    def meth2(self):\n",
    "        pass "
   ]
  },
  {
   "cell_type": "code",
   "execution_count": 76,
   "id": "f9880229-1d38-4fe6-9298-768537eed6a6",
   "metadata": {},
   "outputs": [],
   "source": [
    "a = All()"
   ]
  },
  {
   "cell_type": "code",
   "execution_count": 77,
   "id": "3ffd1a61-951e-4fac-95c8-c75f056115f8",
   "metadata": {},
   "outputs": [
    {
     "name": "stdout",
     "output_type": "stream",
     "text": [
      "Hello\n"
     ]
    }
   ],
   "source": [
    "a.meth1()"
   ]
  },
  {
   "cell_type": "code",
   "execution_count": 78,
   "id": "c423e343-b3e5-4f9c-9368-a64aab93aecd",
   "metadata": {},
   "outputs": [],
   "source": [
    "def assert_fluid(cls):\n",
    "    assert 0 <= cls.temperature <= 100\n",
    "    return cls"
   ]
  },
  {
   "cell_type": "code",
   "execution_count": 79,
   "id": "265de532-1131-40f8-a6d3-c73f7531685b",
   "metadata": {},
   "outputs": [],
   "source": [
    "@assert_fluid\n",
    "class Water:\n",
    "    temperature = 25"
   ]
  },
  {
   "cell_type": "code",
   "execution_count": 80,
   "id": "ea583676-832a-4cc5-81e3-3f5bd4919e62",
   "metadata": {},
   "outputs": [
    {
     "ename": "AssertionError",
     "evalue": "",
     "output_type": "error",
     "traceback": [
      "\u001b[0;31m---------------------------------------------------------------------------\u001b[0m",
      "\u001b[0;31mAssertionError\u001b[0m                            Traceback (most recent call last)",
      "Cell \u001b[0;32mIn[80], line 1\u001b[0m\n\u001b[0;32m----> 1\u001b[0m \u001b[38;5;129;43m@assert_fluid\u001b[39;49m\n\u001b[1;32m      2\u001b[0m \u001b[38;5;28;43;01mclass\u001b[39;49;00m\u001b[43m \u001b[49m\u001b[38;5;21;43;01mIce\u001b[39;49;00m\u001b[43m:\u001b[49m\n\u001b[1;32m      3\u001b[0m \u001b[43m    \u001b[49m\u001b[43mtemperature\u001b[49m\u001b[43m \u001b[49m\u001b[38;5;241;43m=\u001b[39;49m\u001b[43m \u001b[49m\u001b[38;5;241;43m-\u001b[39;49m\u001b[38;5;241;43m25\u001b[39;49m\n",
      "Cell \u001b[0;32mIn[78], line 2\u001b[0m, in \u001b[0;36massert_fluid\u001b[0;34m(cls)\u001b[0m\n\u001b[1;32m      1\u001b[0m \u001b[38;5;28;01mdef\u001b[39;00m \u001b[38;5;21massert_fluid\u001b[39m(\u001b[38;5;28mcls\u001b[39m):\n\u001b[0;32m----> 2\u001b[0m     \u001b[38;5;28;01massert\u001b[39;00m \u001b[38;5;241m0\u001b[39m \u001b[38;5;241m<\u001b[39m\u001b[38;5;241m=\u001b[39m \u001b[38;5;28mcls\u001b[39m\u001b[38;5;241m.\u001b[39mtemperature \u001b[38;5;241m<\u001b[39m\u001b[38;5;241m=\u001b[39m \u001b[38;5;241m100\u001b[39m\n\u001b[1;32m      3\u001b[0m     \u001b[38;5;28;01mreturn\u001b[39;00m \u001b[38;5;28mcls\u001b[39m\n",
      "\u001b[0;31mAssertionError\u001b[0m: "
     ]
    }
   ],
   "source": [
    "@assert_fluid\n",
    "class Ice:\n",
    "    temperature = -25"
   ]
  },
  {
   "cell_type": "code",
   "execution_count": 81,
   "id": "d35372f6-5147-4b8a-a48e-88b9e03fda6a",
   "metadata": {},
   "outputs": [
    {
     "name": "stdout",
     "output_type": "stream",
     "text": [
      "\u001b[31margcheck.py\u001b[m\u001b[m*          \u001b[31mlogged.py\u001b[m\u001b[m*            \u001b[31mregistering.py\u001b[m\u001b[m*\n",
      "\u001b[31mcached.py\u001b[m\u001b[m*            \u001b[31mmethod_name_check.py\u001b[m\u001b[m*\n"
     ]
    }
   ],
   "source": [
    "%ls"
   ]
  },
  {
   "cell_type": "code",
   "execution_count": 83,
   "id": "165ac945-f1f7-45d4-93ea-5e07a719b4e4",
   "metadata": {},
   "outputs": [],
   "source": [
    "# %load method_name_check.py\n",
    "\"\"\"Class decorator to check method name length.\"\"\"\n",
    "\n",
    "\n",
    "def check_name_length(max_len=30):\n",
    "    \"\"\"Check method name length.\n",
    "\n",
    "    Raises a `NameError` if one method name of a decoratoed class is\n",
    "    longer than `max_len`.\n",
    "    \"\"\"\n",
    "    def _check_name_length(cls):\n",
    "        for name, obj in cls.__dict__.items():\n",
    "            if callable(obj) and len(name) > max_len:\n",
    "                msg = (f'name `{name}` too long,\\n  ' + len('NameError') * ' ' +\n",
    "                       f'found {len(name)} characters, only {max_len} are allowed')\n",
    "                raise NameError(msg)\n",
    "        return cls\n",
    "    return _check_name_length"
   ]
  },
  {
   "cell_type": "code",
   "execution_count": 89,
   "id": "c61277c9-d5aa-4800-a69b-27f5e8b23a5b",
   "metadata": {},
   "outputs": [
    {
     "ename": "NameError",
     "evalue": "name `my_method_that_has_a_very_decriptive_name` too long,\n           found 41 characters, only 30 are allowed",
     "output_type": "error",
     "traceback": [
      "\u001b[0;31m---------------------------------------------------------------------------\u001b[0m",
      "\u001b[0;31mNameError\u001b[0m                                 Traceback (most recent call last)",
      "Cell \u001b[0;32mIn[89], line 1\u001b[0m\n\u001b[0;32m----> 1\u001b[0m \u001b[38;5;129;43m@check_name_length\u001b[39;49m\u001b[43m(\u001b[49m\u001b[43m)\u001b[49m\n\u001b[1;32m      2\u001b[0m \u001b[38;5;28;43;01mclass\u001b[39;49;00m\u001b[43m \u001b[49m\u001b[38;5;21;43;01mX\u001b[39;49;00m\u001b[43m:\u001b[49m\n\u001b[1;32m      4\u001b[0m \u001b[43m    \u001b[49m\u001b[38;5;28;43;01mdef\u001b[39;49;00m\u001b[43m \u001b[49m\u001b[38;5;21;43mmeth1\u001b[39;49m\u001b[43m(\u001b[49m\u001b[38;5;28;43mself\u001b[39;49m\u001b[43m)\u001b[49m\u001b[43m:\u001b[49m\n\u001b[1;32m      5\u001b[0m \u001b[43m        \u001b[49m\u001b[38;5;28;43;01mpass\u001b[39;49;00m\n",
      "Cell \u001b[0;32mIn[83], line 16\u001b[0m, in \u001b[0;36mcheck_name_length.<locals>._check_name_length\u001b[0;34m(cls)\u001b[0m\n\u001b[1;32m     13\u001b[0m     \u001b[38;5;28;01mif\u001b[39;00m \u001b[38;5;28mcallable\u001b[39m(obj) \u001b[38;5;129;01mand\u001b[39;00m \u001b[38;5;28mlen\u001b[39m(name) \u001b[38;5;241m>\u001b[39m max_len:\n\u001b[1;32m     14\u001b[0m         msg \u001b[38;5;241m=\u001b[39m (\u001b[38;5;124mf\u001b[39m\u001b[38;5;124m'\u001b[39m\u001b[38;5;124mname `\u001b[39m\u001b[38;5;132;01m{\u001b[39;00mname\u001b[38;5;132;01m}\u001b[39;00m\u001b[38;5;124m` too long,\u001b[39m\u001b[38;5;130;01m\\n\u001b[39;00m\u001b[38;5;124m  \u001b[39m\u001b[38;5;124m'\u001b[39m \u001b[38;5;241m+\u001b[39m \u001b[38;5;28mlen\u001b[39m(\u001b[38;5;124m'\u001b[39m\u001b[38;5;124mNameError\u001b[39m\u001b[38;5;124m'\u001b[39m) \u001b[38;5;241m*\u001b[39m \u001b[38;5;124m'\u001b[39m\u001b[38;5;124m \u001b[39m\u001b[38;5;124m'\u001b[39m \u001b[38;5;241m+\u001b[39m\n\u001b[1;32m     15\u001b[0m                \u001b[38;5;124mf\u001b[39m\u001b[38;5;124m'\u001b[39m\u001b[38;5;124mfound \u001b[39m\u001b[38;5;132;01m{\u001b[39;00m\u001b[38;5;28mlen\u001b[39m(name)\u001b[38;5;132;01m}\u001b[39;00m\u001b[38;5;124m characters, only \u001b[39m\u001b[38;5;132;01m{\u001b[39;00mmax_len\u001b[38;5;132;01m}\u001b[39;00m\u001b[38;5;124m are allowed\u001b[39m\u001b[38;5;124m'\u001b[39m)\n\u001b[0;32m---> 16\u001b[0m         \u001b[38;5;28;01mraise\u001b[39;00m \u001b[38;5;167;01mNameError\u001b[39;00m(msg)\n\u001b[1;32m     17\u001b[0m \u001b[38;5;28;01mreturn\u001b[39;00m \u001b[38;5;28mcls\u001b[39m\n",
      "\u001b[0;31mNameError\u001b[0m: name `my_method_that_has_a_very_decriptive_name` too long,\n           found 41 characters, only 30 are allowed"
     ]
    }
   ],
   "source": [
    "@check_name_length()\n",
    "class X:\n",
    "\n",
    "    def meth1(self):\n",
    "        pass\n",
    "\n",
    "    def my_method_that_has_a_very_decriptive_name(self):\n",
    "        pass"
   ]
  },
  {
   "cell_type": "code",
   "execution_count": 86,
   "id": "0ed93d33-afc8-4c9c-893c-dd7ea281276e",
   "metadata": {},
   "outputs": [
    {
     "data": {
      "text/plain": [
       "mappingproxy({'__module__': '__main__',\n",
       "              'temperature': 25,\n",
       "              '__dict__': <attribute '__dict__' of 'Water' objects>,\n",
       "              '__weakref__': <attribute '__weakref__' of 'Water' objects>,\n",
       "              '__doc__': None})"
      ]
     },
     "execution_count": 86,
     "metadata": {},
     "output_type": "execute_result"
    }
   ],
   "source": [
    "Water.__dict__"
   ]
  },
  {
   "cell_type": "code",
   "execution_count": 122,
   "id": "f2be9901-4ba8-45f2-ac4d-8793b7866122",
   "metadata": {},
   "outputs": [],
   "source": [
    "MAX_LEN = 30\n",
    "\n",
    "def check_name_length2(max_len=MAX_LEN):\n",
    "    \"\"\"Check method name length.\n",
    "\n",
    "    Raises a `NameError` if one method name of a decoratoed class is\n",
    "    longer than `max_len`.\n",
    "    \"\"\"\n",
    "    def _check_name_length(cls):\n",
    "        for name, obj in cls.__dict__.items():\n",
    "            if callable(obj) and len(name) > max_len:\n",
    "                msg = (f'name `{name}` too long,\\n  ' + len('NameError') * ' ' +\n",
    "                       f'found {len(name)} characters, only {max_len} are allowed')\n",
    "                raise NameError(msg)\n",
    "        return cls\n",
    "    print(max_len)\n",
    "    if type(max_len) is type:\n",
    "        cls = max_len\n",
    "        max_len = MAX_LEN\n",
    "        return _check_name_length(cls)\n",
    "    else:\n",
    "        return _check_name_length\n",
    "\n"
   ]
  },
  {
   "cell_type": "code",
   "execution_count": 123,
   "id": "98b4cfe9-2948-4856-8d32-b019ae0293b2",
   "metadata": {},
   "outputs": [
    {
     "data": {
      "text/plain": [
       "\u001b[0;31mSignature:\u001b[0m \u001b[0mcheck_name_length2\u001b[0m\u001b[0;34m(\u001b[0m\u001b[0mmax_len\u001b[0m\u001b[0;34m=\u001b[0m\u001b[0;36m30\u001b[0m\u001b[0;34m)\u001b[0m\u001b[0;34m\u001b[0m\u001b[0;34m\u001b[0m\u001b[0m\n",
       "\u001b[0;31mDocstring:\u001b[0m\n",
       "Check method name length.\n",
       "\n",
       "Raises a `NameError` if one method name of a decoratoed class is\n",
       "longer than `max_len`.\n",
       "\u001b[0;31mFile:\u001b[0m      /var/folders/p_/yckgs9wn0xbcmqc92zk3z4240000gp/T/ipykernel_85844/143033117.py\n",
       "\u001b[0;31mType:\u001b[0m      function"
      ]
     },
     "metadata": {},
     "output_type": "display_data"
    }
   ],
   "source": [
    "check_name_length2?"
   ]
  },
  {
   "cell_type": "code",
   "execution_count": 120,
   "id": "b0a9d778-a248-4aab-a7f3-d6848c11ba32",
   "metadata": {},
   "outputs": [
    {
     "name": "stdout",
     "output_type": "stream",
     "text": [
      "<class '__main__.X'>\n"
     ]
    },
    {
     "ename": "NameError",
     "evalue": "name `my_method_that_has_a_very_decriptive_name` too long,\n           found 41 characters, only 30 are allowed",
     "output_type": "error",
     "traceback": [
      "\u001b[0;31m---------------------------------------------------------------------------\u001b[0m",
      "\u001b[0;31mNameError\u001b[0m                                 Traceback (most recent call last)",
      "Cell \u001b[0;32mIn[120], line 1\u001b[0m\n\u001b[0;32m----> 1\u001b[0m \u001b[38;5;129;43m@check_name_length2\u001b[39;49m\n\u001b[1;32m      2\u001b[0m \u001b[38;5;28;43;01mclass\u001b[39;49;00m\u001b[43m \u001b[49m\u001b[38;5;21;43;01mX\u001b[39;49;00m\u001b[43m:\u001b[49m\n\u001b[1;32m      4\u001b[0m \u001b[43m    \u001b[49m\u001b[38;5;28;43;01mdef\u001b[39;49;00m\u001b[43m \u001b[49m\u001b[38;5;21;43mmeth1\u001b[39;49m\u001b[43m(\u001b[49m\u001b[38;5;28;43mself\u001b[39;49m\u001b[43m)\u001b[49m\u001b[43m:\u001b[49m\n\u001b[1;32m      5\u001b[0m \u001b[43m        \u001b[49m\u001b[38;5;28;43;01mpass\u001b[39;49;00m\n",
      "Cell \u001b[0;32mIn[115], line 18\u001b[0m, in \u001b[0;36mcheck_name_length2\u001b[0;34m(max_len)\u001b[0m\n\u001b[1;32m     16\u001b[0m     \u001b[38;5;28mcls\u001b[39m \u001b[38;5;241m=\u001b[39m max_len\n\u001b[1;32m     17\u001b[0m     max_len \u001b[38;5;241m=\u001b[39m \u001b[38;5;241m30\u001b[39m\n\u001b[0;32m---> 18\u001b[0m     \u001b[38;5;28;01mreturn\u001b[39;00m \u001b[43m_check_name_length\u001b[49m\u001b[43m(\u001b[49m\u001b[38;5;28;43mcls\u001b[39;49m\u001b[43m)\u001b[49m\n\u001b[1;32m     19\u001b[0m \u001b[38;5;28;01melse\u001b[39;00m:\n\u001b[1;32m     20\u001b[0m     \u001b[38;5;28;01mreturn\u001b[39;00m _check_name_length\n",
      "Cell \u001b[0;32mIn[115], line 12\u001b[0m, in \u001b[0;36mcheck_name_length2.<locals>._check_name_length\u001b[0;34m(cls)\u001b[0m\n\u001b[1;32m      9\u001b[0m     \u001b[38;5;28;01mif\u001b[39;00m \u001b[38;5;28mcallable\u001b[39m(obj) \u001b[38;5;129;01mand\u001b[39;00m \u001b[38;5;28mlen\u001b[39m(name) \u001b[38;5;241m>\u001b[39m max_len:\n\u001b[1;32m     10\u001b[0m         msg \u001b[38;5;241m=\u001b[39m (\u001b[38;5;124mf\u001b[39m\u001b[38;5;124m'\u001b[39m\u001b[38;5;124mname `\u001b[39m\u001b[38;5;132;01m{\u001b[39;00mname\u001b[38;5;132;01m}\u001b[39;00m\u001b[38;5;124m` too long,\u001b[39m\u001b[38;5;130;01m\\n\u001b[39;00m\u001b[38;5;124m  \u001b[39m\u001b[38;5;124m'\u001b[39m \u001b[38;5;241m+\u001b[39m \u001b[38;5;28mlen\u001b[39m(\u001b[38;5;124m'\u001b[39m\u001b[38;5;124mNameError\u001b[39m\u001b[38;5;124m'\u001b[39m) \u001b[38;5;241m*\u001b[39m \u001b[38;5;124m'\u001b[39m\u001b[38;5;124m \u001b[39m\u001b[38;5;124m'\u001b[39m \u001b[38;5;241m+\u001b[39m\n\u001b[1;32m     11\u001b[0m                \u001b[38;5;124mf\u001b[39m\u001b[38;5;124m'\u001b[39m\u001b[38;5;124mfound \u001b[39m\u001b[38;5;132;01m{\u001b[39;00m\u001b[38;5;28mlen\u001b[39m(name)\u001b[38;5;132;01m}\u001b[39;00m\u001b[38;5;124m characters, only \u001b[39m\u001b[38;5;132;01m{\u001b[39;00mmax_len\u001b[38;5;132;01m}\u001b[39;00m\u001b[38;5;124m are allowed\u001b[39m\u001b[38;5;124m'\u001b[39m)\n\u001b[0;32m---> 12\u001b[0m         \u001b[38;5;28;01mraise\u001b[39;00m \u001b[38;5;167;01mNameError\u001b[39;00m(msg)\n\u001b[1;32m     13\u001b[0m \u001b[38;5;28;01mreturn\u001b[39;00m \u001b[38;5;28mcls\u001b[39m\n",
      "\u001b[0;31mNameError\u001b[0m: name `my_method_that_has_a_very_decriptive_name` too long,\n           found 41 characters, only 30 are allowed"
     ]
    }
   ],
   "source": [
    "@check_name_length2\n",
    "class X:\n",
    "\n",
    "    def meth1(self):\n",
    "        pass\n",
    "\n",
    "    def my_method_that_has_a_very_decriptive_name(self):\n",
    "        pass"
   ]
  },
  {
   "cell_type": "code",
   "execution_count": 130,
   "id": "c1979353-98f2-469b-bc34-33804ded5530",
   "metadata": {},
   "outputs": [],
   "source": [
    "from timeit import default_timer\n",
    "\n",
    "def measure_time(repeat=1):\n",
    "    def _measure_time(func):\n",
    "        times = []\n",
    "        @wraps(func)\n",
    "        def __measure_time(*args, **kwargs):\n",
    "            start = default_timer()\n",
    "            for _ in range(repeat):\n",
    "                res = func(*args, **kwargs)\n",
    "            duration = (default_timer() - start) / repeat\n",
    "            times.append(duration)\n",
    "            return res\n",
    "        __measure_time.times = times\n",
    "        return __measure_time\n",
    "    return _measure_time"
   ]
  },
  {
   "cell_type": "code",
   "execution_count": 131,
   "id": "d963725c-ba72-4413-bc69-7d112a277497",
   "metadata": {},
   "outputs": [],
   "source": [
    "@measure_time()\n",
    "def add(a, b):\n",
    "    return a + b"
   ]
  },
  {
   "cell_type": "code",
   "execution_count": 132,
   "id": "49b9e2eb-5c4f-4ea2-930d-bd9d9e67d225",
   "metadata": {},
   "outputs": [
    {
     "data": {
      "text/plain": [
       "[5.207955837249756e-06]"
      ]
     },
     "execution_count": 132,
     "metadata": {},
     "output_type": "execute_result"
    }
   ],
   "source": [
    "add(3, 4)\n",
    "add.times"
   ]
  },
  {
   "cell_type": "code",
   "execution_count": 137,
   "id": "ceb9d6da-71b0-42a0-9c0b-5eec4de5064e",
   "metadata": {},
   "outputs": [
    {
     "data": {
      "text/plain": [
       "[1.7689833184704185e-07]"
      ]
     },
     "execution_count": 137,
     "metadata": {},
     "output_type": "execute_result"
    }
   ],
   "source": [
    "@measure_time(100_000)\n",
    "def add(a, b):\n",
    "    return a + b\n",
    "add(3, 4)\n",
    "add.times"
   ]
  },
  {
   "cell_type": "code",
   "execution_count": 148,
   "id": "98ca8468-0915-4eee-b19f-694da93c0015",
   "metadata": {},
   "outputs": [
    {
     "name": "stdout",
     "output_type": "stream",
     "text": [
      "          10 3.50e-07\n",
      "         100 1.73e-07\n",
      "        1000 1.65e-07\n",
      "       10000 1.67e-07\n",
      "      100000 1.81e-07\n",
      "     1000000 6.32e-08\n",
      "    10000000 5.15e-08\n",
      "   100000000 5.00e-08\n"
     ]
    }
   ],
   "source": [
    "for n in range(1, 9):\n",
    "    repeat = 10 ** n\n",
    "    @measure_time(repeat)\n",
    "    def add(a, b):\n",
    "        return a + b\n",
    "    add(3, 4)\n",
    "    print(f'{repeat:12d} {add.times[0]:.2e}')"
   ]
  },
  {
   "cell_type": "code",
   "execution_count": null,
   "id": "dd9721b3-2af3-427c-955d-a13ac4cca96d",
   "metadata": {},
   "outputs": [],
   "source": []
  }
 ],
 "metadata": {
  "kernelspec": {
   "display_name": "Python 3 (ipykernel)",
   "language": "python",
   "name": "python3"
  },
  "language_info": {
   "codemirror_mode": {
    "name": "ipython",
    "version": 3
   },
   "file_extension": ".py",
   "mimetype": "text/x-python",
   "name": "python",
   "nbconvert_exporter": "python",
   "pygments_lexer": "ipython3",
   "version": "3.11.4"
  }
 },
 "nbformat": 4,
 "nbformat_minor": 5
}
